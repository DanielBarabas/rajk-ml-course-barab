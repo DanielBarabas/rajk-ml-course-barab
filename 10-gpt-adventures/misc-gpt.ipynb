{
 "cells": [
  {
   "cell_type": "code",
   "execution_count": 1,
   "id": "a8ba3963-fc7b-499e-aebd-23b5c46d0c3b",
   "metadata": {},
   "outputs": [],
   "source": [
    "import re\n",
    "from random import Random\n",
    "\n",
    "import pandas as pd\n",
    "import torch\n",
    "import torch.nn as nn\n",
    "from faker import Faker\n",
    "from torch.nn import functional as F\n",
    "from tqdm.notebook import tqdm\n",
    "\n",
    "from misc_gpt import GPT"
   ]
  },
  {
   "cell_type": "code",
   "execution_count": 2,
   "id": "9bf5ead8-ed8a-45a8-b055-660546f21b82",
   "metadata": {},
   "outputs": [],
   "source": [
    "block_size = 100"
   ]
  },
  {
   "cell_type": "code",
   "execution_count": 3,
   "id": "6ce37c5a-1461-4f35-aa69-8bc957236e3a",
   "metadata": {},
   "outputs": [],
   "source": [
    "fake = Faker()"
   ]
  },
  {
   "cell_type": "code",
   "execution_count": 4,
   "id": "5765a4dc-5579-4320-b4a2-fd61f7f39d23",
   "metadata": {},
   "outputs": [],
   "source": [
    "rng = Random(742)"
   ]
  },
  {
   "cell_type": "code",
   "execution_count": 5,
   "id": "fa0d48f3-55b8-4b13-b7fc-dd744ccc96bf",
   "metadata": {},
   "outputs": [],
   "source": [
    "def wrap(s):\n",
    "    return s + \" \" * (block_size - len(s))"
   ]
  },
  {
   "cell_type": "code",
   "execution_count": 6,
   "id": "f982f357-823a-44d9-9da1-a56f70c89589",
   "metadata": {},
   "outputs": [],
   "source": [
    "def get_line():\n",
    "    a = rng.randint(10, 100_000)\n",
    "    b = int(2 ** (rng.random() * 19))\n",
    "    return f\" {a} + {b} == {a + b}\""
   ]
  },
  {
   "cell_type": "code",
   "execution_count": 7,
   "id": "c3b76580-b456-4532-9cc8-c2b043f39d65",
   "metadata": {},
   "outputs": [],
   "source": [
    "def get_line3():\n",
    "    a = rng.randint(10, 100_000)\n",
    "    b = int(2 ** (rng.random() * 19))\n",
    "    return f\" {bin(a)[2:]} + {bin(b)[2:]} == {bin(a + b)[2:]}\""
   ]
  },
  {
   "cell_type": "code",
   "execution_count": 8,
   "id": "0f848df8-e943-42bb-b841-d3c3f3c29a2d",
   "metadata": {},
   "outputs": [],
   "source": [
    "def get_line4():\n",
    "    a = rng.randint(10, 100_000)\n",
    "    b = int(2 ** (rng.random() * 19))\n",
    "    return f\" {hex(a)[2:]} + {hex(b)[2:]} == {hex(a + b)[2:]}\""
   ]
  },
  {
   "cell_type": "code",
   "execution_count": 9,
   "id": "fc67d615-59e1-4a1a-b6ba-48b809626c1f",
   "metadata": {},
   "outputs": [],
   "source": [
    "def eval_fun3(s):\n",
    "    try:\n",
    "        o = re.sub(\" (\\d)\", r\" 0b\\1\", s)\n",
    "        return str(eval(o))\n",
    "    except Exception as e:\n",
    "        return type(e).__name__"
   ]
  },
  {
   "cell_type": "code",
   "execution_count": 10,
   "id": "08fb0b34-f6b5-4766-b6cb-3eaacb25de09",
   "metadata": {},
   "outputs": [],
   "source": [
    "def eval_fun3_subtract(s):\n",
    "    try:\n",
    "        o = re.sub(\" (\\d)\", r\" 0b\\1\", s).split(\"=\")[0].replace(\"+\", \"-\")\n",
    "        return str(eval(o))\n",
    "    except Exception as e:\n",
    "        return type(e).__name__"
   ]
  },
  {
   "cell_type": "code",
   "execution_count": 11,
   "id": "d15bec36-2053-4e5b-88a1-134a23f5dcac",
   "metadata": {},
   "outputs": [],
   "source": [
    "def eval_fun(s):\n",
    "    try:\n",
    "        return str(eval(s))\n",
    "    except Exception as e:\n",
    "        return type(e).__name__"
   ]
  },
  {
   "cell_type": "code",
   "execution_count": 12,
   "id": "da3c5553-167e-405b-9ff7-d12104c05617",
   "metadata": {},
   "outputs": [],
   "source": [
    "TAGS = [\"div\", \"p\", \"span\"]"
   ]
  },
  {
   "cell_type": "code",
   "execution_count": 13,
   "id": "11b8231b-7f94-4259-8128-900f4f538127",
   "metadata": {},
   "outputs": [],
   "source": [
    "def get_line2():\n",
    "    w1 = fake.word().lower()\n",
    "    w2 = fake.word().lower()\n",
    "    tags = [rng.choice(TAGS), rng.choice(TAGS)]\n",
    "    return \"\".join(f\" <{t}>{w}</{t}>\" for w, t in zip(sorted([w1, w2]), tags))"
   ]
  },
  {
   "cell_type": "code",
   "execution_count": 14,
   "id": "6a7cd4f1-6fc1-4940-8a09-0d55e10c32f5",
   "metadata": {},
   "outputs": [],
   "source": [
    "def eval_fun2(s):\n",
    "    return \"-\".join(re.findall(f\"<({'|'.join(TAGS)})>[a-z]+</\\\\1>\", s))"
   ]
  },
  {
   "cell_type": "code",
   "execution_count": null,
   "id": "429f3f56-e3b1-40f6-ad56-460e66006360",
   "metadata": {},
   "outputs": [],
   "source": []
  },
  {
   "cell_type": "code",
   "execution_count": 15,
   "id": "03982844-651d-4952-a07e-be2b50aed2ce",
   "metadata": {},
   "outputs": [],
   "source": [
    "current_eval_fun = eval_fun\n",
    "current_get_line = get_line"
   ]
  },
  {
   "cell_type": "code",
   "execution_count": null,
   "id": "70d4edac-17be-484c-9fcd-f96d3fc1f734",
   "metadata": {},
   "outputs": [],
   "source": []
  },
  {
   "cell_type": "code",
   "execution_count": 16,
   "id": "c147725b-f2ee-4d7d-a0e0-6302c43c345a",
   "metadata": {},
   "outputs": [],
   "source": [
    "lines = 1_000_000"
   ]
  },
  {
   "cell_type": "code",
   "execution_count": 17,
   "id": "8f32bd11-67f4-4b61-a070-994f8a834ea1",
   "metadata": {},
   "outputs": [],
   "source": [
    "complete_raw_input = \"\".join(wrap(current_get_line()) for _ in range(lines))"
   ]
  },
  {
   "cell_type": "code",
   "execution_count": 18,
   "id": "81df8ed9-72fe-41f9-b809-4155b65a5a0b",
   "metadata": {},
   "outputs": [
    {
     "name": "stdout",
     "output_type": "stream",
     "text": [
      " 54418 + 346608 == 401026                                                                           \n",
      "True\n",
      "\n",
      "\n",
      " 17991 + 279221 == 297212                                                                           \n",
      "True\n",
      "\n",
      "\n",
      " 15795 + 13394 == 29189                                                                             \n",
      "True\n",
      "\n",
      "\n",
      " 77916 + 90203 == 168119                                                                            \n",
      "True\n",
      "\n",
      "\n"
     ]
    }
   ],
   "source": [
    "for i in range(4):\n",
    "    pr = complete_raw_input[i * block_size : (i + 1) * block_size]\n",
    "    print(pr)\n",
    "    print(current_eval_fun(pr))\n",
    "    print(\"\\n\")"
   ]
  },
  {
   "cell_type": "code",
   "execution_count": 19,
   "id": "9921369c-a4b9-4f29-9b93-6a110a24fe32",
   "metadata": {},
   "outputs": [],
   "source": [
    "chars = sorted(list(set(complete_raw_input)))\n",
    "vocab_size = len(chars)\n",
    "stoi = {ch: i for i, ch in enumerate(chars)}\n",
    "itos = {i: ch for i, ch in enumerate(chars)}\n",
    "encode = lambda s: [\n",
    "    stoi[c] for c in s\n",
    "]  # encoder: take a string, output a list of integers\n",
    "decode = lambda l: \"\".join(\n",
    "    [itos[i] for i in l]\n",
    ")  # decoder: take a list of integers, output a string"
   ]
  },
  {
   "cell_type": "code",
   "execution_count": 20,
   "id": "1ac018aa-af2d-4c6f-98db-876d51177db6",
   "metadata": {},
   "outputs": [],
   "source": [
    "torch.manual_seed(742)\n",
    "\n",
    "data = torch.tensor(encode(complete_raw_input), dtype=torch.long)\n",
    "n = (\n",
    "    int(0.9 * (len(data) // block_size)) * block_size\n",
    ")  # first 90% will be train, rest val\n",
    "train_data = data[:n]\n",
    "val_data = data[n:]"
   ]
  },
  {
   "cell_type": "code",
   "execution_count": 21,
   "id": "bf01b5b4-d778-435d-8a8b-fe12e4fb0cc6",
   "metadata": {},
   "outputs": [],
   "source": [
    "batch_size = 64\n",
    "max_iters = 2000\n",
    "eval_interval = 100\n",
    "learning_rate = 3e-4\n",
    "\n",
    "device = \"cuda\" if torch.cuda.is_available() else \"cpu\"\n",
    "\n",
    "eval_iters = 200\n",
    "n_head = 3\n",
    "n_embd = n_head * 16\n",
    "n_layer = 2\n",
    "dropout = 0.2"
   ]
  },
  {
   "cell_type": "code",
   "execution_count": 22,
   "id": "636cfc2f-f311-4177-ba52-7abb8981eefc",
   "metadata": {},
   "outputs": [],
   "source": [
    "def get_batch(split):\n",
    "    # generate a small batch of data of inputs x and targets y\n",
    "    data = train_data if split == \"train\" else val_data\n",
    "    ix = torch.randint(len(data) // block_size - 1, (batch_size,)) * block_size\n",
    "    x = torch.stack([data[i : i + block_size] for i in ix])\n",
    "    y = torch.stack([data[i + 1 : i + block_size + 1] for i in ix])\n",
    "    x, y = x.to(device), y.to(device)\n",
    "    return x, y"
   ]
  },
  {
   "cell_type": "code",
   "execution_count": 23,
   "id": "b44a780f-83fb-4dc7-8078-22facb14b4f0",
   "metadata": {},
   "outputs": [],
   "source": [
    "@torch.no_grad()\n",
    "def estimate_loss():\n",
    "    out = {}\n",
    "    model.eval()\n",
    "    for split in [\"train\", \"val\"]:\n",
    "        losses = torch.zeros(eval_iters)\n",
    "        for k in range(eval_iters):\n",
    "            X, Y = get_batch(split)\n",
    "            _, loss = model(X, Y)\n",
    "            losses[k] = loss.item()\n",
    "        out[split] = losses.mean()\n",
    "    model.train()\n",
    "    return out"
   ]
  },
  {
   "cell_type": "code",
   "execution_count": 24,
   "id": "d8a377c0-9185-4832-8d4e-76343745925e",
   "metadata": {},
   "outputs": [
    {
     "name": "stdout",
     "output_type": "stream",
     "text": [
      "0.062413 M parameters\n"
     ]
    }
   ],
   "source": [
    "model = GPT(vocab_size, n_embd, block_size, n_head, n_layer, dropout, device)\n",
    "m = model.to(device)\n",
    "print(sum(p.numel() for p in m.parameters()) / 1e6, \"M parameters\")"
   ]
  },
  {
   "cell_type": "code",
   "execution_count": 25,
   "id": "2b71a7df-1608-43ac-946e-dfd971a38b3b",
   "metadata": {},
   "outputs": [],
   "source": [
    "optimizer = torch.optim.AdamW(model.parameters(), lr=learning_rate)"
   ]
  },
  {
   "cell_type": "code",
   "execution_count": 26,
   "id": "1e86be4c-cd65-4be6-9e58-028dc2a6c11b",
   "metadata": {},
   "outputs": [
    {
     "name": "stdout",
     "output_type": "stream",
     "text": [
      "step 0: train loss 2.5940, val loss 2.5940\n",
      "step 100: train loss 0.7243, val loss 0.7235\n",
      "step 200: train loss 0.4542, val loss 0.4548\n",
      "step 300: train loss 0.3856, val loss 0.3860\n",
      "step 400: train loss 0.3608, val loss 0.3609\n",
      "step 500: train loss 0.3499, val loss 0.3487\n",
      "step 600: train loss 0.3423, val loss 0.3416\n",
      "step 700: train loss 0.3375, val loss 0.3370\n",
      "step 800: train loss 0.3353, val loss 0.3353\n",
      "step 900: train loss 0.3325, val loss 0.3320\n",
      "step 1000: train loss 0.3309, val loss 0.3311\n",
      "step 1100: train loss 0.3298, val loss 0.3303\n",
      "step 1200: train loss 0.3282, val loss 0.3287\n",
      "step 1300: train loss 0.3286, val loss 0.3288\n",
      "step 1400: train loss 0.3276, val loss 0.3275\n",
      "step 1500: train loss 0.3266, val loss 0.3260\n",
      "step 1600: train loss 0.3263, val loss 0.3260\n",
      "step 1700: train loss 0.3241, val loss 0.3238\n",
      "step 1800: train loss 0.3235, val loss 0.3228\n",
      "step 1900: train loss 0.3221, val loss 0.3224\n",
      "step 1999: train loss 0.3207, val loss 0.3218\n",
      "step 2000: train loss 0.3207, val loss 0.3213\n",
      "step 2100: train loss 0.3212, val loss 0.3210\n",
      "step 2200: train loss 0.3196, val loss 0.3202\n",
      "step 2300: train loss 0.3197, val loss 0.3193\n",
      "step 2400: train loss 0.3155, val loss 0.3164\n",
      "step 2500: train loss 0.3138, val loss 0.3135\n",
      "step 2600: train loss 0.3116, val loss 0.3118\n",
      "step 2700: train loss 0.3103, val loss 0.3096\n",
      "step 2800: train loss 0.3078, val loss 0.3074\n",
      "step 2900: train loss 0.3044, val loss 0.3043\n",
      "step 3000: train loss 0.3017, val loss 0.3023\n",
      "step 3100: train loss 0.3004, val loss 0.3006\n",
      "step 3200: train loss 0.2997, val loss 0.2999\n",
      "step 3300: train loss 0.2983, val loss 0.2969\n",
      "step 3400: train loss 0.2970, val loss 0.2970\n",
      "step 3500: train loss 0.2951, val loss 0.2959\n",
      "step 3600: train loss 0.2957, val loss 0.2939\n",
      "step 3700: train loss 0.2947, val loss 0.2936\n",
      "step 3800: train loss 0.2942, val loss 0.2929\n",
      "step 3900: train loss 0.2936, val loss 0.2939\n"
     ]
    }
   ],
   "source": [
    "for iter in range(max_iters * 2):\n",
    "\n",
    "    if iter % eval_interval == 0 or iter == max_iters - 1:\n",
    "        losses = estimate_loss()\n",
    "        print(\n",
    "            f\"step {iter}: train loss {losses['train']:.4f}, val loss {losses['val']:.4f}\"\n",
    "        )\n",
    "\n",
    "    xb, yb = get_batch(\"train\")\n",
    "\n",
    "    logits, loss = model(xb, yb)\n",
    "    optimizer.zero_grad(set_to_none=True)\n",
    "    loss.backward()\n",
    "    optimizer.step()"
   ]
  },
  {
   "cell_type": "code",
   "execution_count": 27,
   "id": "271439a7-bdad-4413-a1b7-fffad23c135f",
   "metadata": {},
   "outputs": [],
   "source": [
    "def get_eval_df(prompt=\" \", eval_n=1_000):\n",
    "    eval_recs = []\n",
    "    for _ in tqdm(range(eval_n)):\n",
    "        context = torch.tensor(encode(prompt), dtype=torch.long, device=device).reshape(\n",
    "            1, -1\n",
    "        )\n",
    "        res = decode(\n",
    "            m.generate(context, max_new_tokens=block_size - len(prompt))[0].tolist()\n",
    "        )\n",
    "        eval_recs.append(\n",
    "            {\n",
    "                \"train_example\": res in complete_raw_input,\n",
    "                \"result\": current_eval_fun(res),\n",
    "                \"res\": res,\n",
    "            }\n",
    "        )\n",
    "    return pd.DataFrame(eval_recs)"
   ]
  },
  {
   "cell_type": "code",
   "execution_count": 28,
   "id": "ce47af36-cfb1-495c-9a85-0e5e1f062bbd",
   "metadata": {},
   "outputs": [],
   "source": [
    "def piv_evdf(df):\n",
    "    return df.pivot_table(\n",
    "        index=\"result\", columns=\"train_example\", values=\"res\", aggfunc=\"count\"\n",
    "    )"
   ]
  },
  {
   "cell_type": "code",
   "execution_count": 29,
   "id": "d9623592-8b6a-4a0c-9938-ba3155617c0d",
   "metadata": {},
   "outputs": [
    {
     "data": {
      "application/vnd.jupyter.widget-view+json": {
       "model_id": "ce4edb596a8a4537ba3e639207054a80",
       "version_major": 2,
       "version_minor": 0
      },
      "text/plain": [
       "  0%|          | 0/1000 [00:00<?, ?it/s]"
      ]
     },
     "metadata": {},
     "output_type": "display_data"
    }
   ],
   "source": [
    "eval_df = get_eval_df()"
   ]
  },
  {
   "cell_type": "code",
   "execution_count": 31,
   "id": "522c5b25-7a27-41a3-9563-267b4245df0c",
   "metadata": {},
   "outputs": [
    {
     "data": {
      "text/html": [
       "<div>\n",
       "<style scoped>\n",
       "    .dataframe tbody tr th:only-of-type {\n",
       "        vertical-align: middle;\n",
       "    }\n",
       "\n",
       "    .dataframe tbody tr th {\n",
       "        vertical-align: top;\n",
       "    }\n",
       "\n",
       "    .dataframe thead th {\n",
       "        text-align: right;\n",
       "    }\n",
       "</style>\n",
       "<table border=\"1\" class=\"dataframe\">\n",
       "  <thead>\n",
       "    <tr style=\"text-align: right;\">\n",
       "      <th>train_example</th>\n",
       "      <th>False</th>\n",
       "    </tr>\n",
       "    <tr>\n",
       "      <th>result</th>\n",
       "      <th></th>\n",
       "    </tr>\n",
       "  </thead>\n",
       "  <tbody>\n",
       "    <tr>\n",
       "      <th>False</th>\n",
       "      <td>949</td>\n",
       "    </tr>\n",
       "    <tr>\n",
       "      <th>SyntaxError</th>\n",
       "      <td>50</td>\n",
       "    </tr>\n",
       "    <tr>\n",
       "      <th>True</th>\n",
       "      <td>1</td>\n",
       "    </tr>\n",
       "  </tbody>\n",
       "</table>\n",
       "</div>"
      ],
      "text/plain": [
       "train_example  False\n",
       "result              \n",
       "False            949\n",
       "SyntaxError       50\n",
       "True               1"
      ]
     },
     "execution_count": 31,
     "metadata": {},
     "output_type": "execute_result"
    }
   ],
   "source": [
    "piv_evdf(eval_df)"
   ]
  }
 ],
 "metadata": {
  "kernelspec": {
   "display_name": "Python 3 (ipykernel)",
   "language": "python",
   "name": "python3"
  },
  "language_info": {
   "codemirror_mode": {
    "name": "ipython",
    "version": 3
   },
   "file_extension": ".py",
   "mimetype": "text/x-python",
   "name": "python",
   "nbconvert_exporter": "python",
   "pygments_lexer": "ipython3",
   "version": "3.10.12"
  }
 },
 "nbformat": 4,
 "nbformat_minor": 5
}
