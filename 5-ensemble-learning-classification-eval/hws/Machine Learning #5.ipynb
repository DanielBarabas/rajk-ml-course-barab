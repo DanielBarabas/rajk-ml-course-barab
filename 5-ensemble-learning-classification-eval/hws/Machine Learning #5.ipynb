{
 "cells": [
  {
   "cell_type": "markdown",
   "id": "e19bbf49",
   "metadata": {
    "id": "e19bbf49"
   },
   "source": [
    "## Loading Packages"
   ]
  },
  {
   "cell_type": "code",
   "execution_count": null,
   "id": "75281dbb",
   "metadata": {
    "id": "75281dbb"
   },
   "outputs": [],
   "source": [
    "# Mire meglett ez a kibaszott hdbscan package... és végül nem is működik. Helyette DBSCAN clustering-et alkalmazok.\n",
    "import hdbscan\n",
    "import umap\n",
    "import pandas as pd\n",
    "from sentence_transformers import SentenceTransformer\n",
    "from sklearn.cluster import DBSCAN\n",
    "import matplotlib.pyplot as plt\n",
    "from matplotlib.colors import ListedColormap"
   ]
  },
  {
   "cell_type": "markdown",
   "id": "e1e6e5fe",
   "metadata": {
    "id": "e1e6e5fe"
   },
   "source": [
    "## Loading and Exploring Data"
   ]
  },
  {
   "cell_type": "code",
   "execution_count": null,
   "id": "f0d189fd",
   "metadata": {
    "id": "f0d189fd"
   },
   "outputs": [],
   "source": [
    "url = 'https://storage.googleapis.com/superlinked-notebook-user-acquisiton-analytics/user_acquisiton_data.csv'\n",
    "df = pd.read_csv(url)"
   ]
  },
  {
   "cell_type": "code",
   "execution_count": null,
   "id": "bd649ebb",
   "metadata": {
    "id": "bd649ebb",
    "outputId": "1c34ddb7-a6db-4a0b-f903-fc9713f89cd5",
    "scrolled": true
   },
   "outputs": [
    {
     "data": {
      "text/plain": [
       "Index(['id', 'signup_date', 'ad_creative', 'activity'], dtype='object')"
      ]
     },
     "execution_count": 99,
     "metadata": {},
     "output_type": "execute_result"
    }
   ],
   "source": [
    "df.iloc[0,1]\n",
    "df.head(3)\n",
    "df.columns"
   ]
  },
  {
   "cell_type": "markdown",
   "id": "82a8f94b",
   "metadata": {
    "id": "82a8f94b"
   },
   "source": [
    "## Creating String-based Vectors"
   ]
  },
  {
   "cell_type": "code",
   "execution_count": null,
   "id": "9dd58a66",
   "metadata": {
    "id": "9dd58a66"
   },
   "outputs": [],
   "source": [
    "model = SentenceTransformer(\"all-MiniLM-L6-v2\")\n",
    "embeddings = model.encode(df['ad_creative'])"
   ]
  },
  {
   "cell_type": "code",
   "execution_count": null,
   "id": "09edddea",
   "metadata": {
    "id": "09edddea",
    "outputId": "2ba46392-f02c-408b-9fd2-582d6d41fec5"
   },
   "outputs": [
    {
     "data": {
      "text/html": [
       "<div>\n",
       "<style scoped>\n",
       "    .dataframe tbody tr th:only-of-type {\n",
       "        vertical-align: middle;\n",
       "    }\n",
       "\n",
       "    .dataframe tbody tr th {\n",
       "        vertical-align: top;\n",
       "    }\n",
       "\n",
       "    .dataframe thead th {\n",
       "        text-align: right;\n",
       "    }\n",
       "</style>\n",
       "<table border=\"1\" class=\"dataframe\">\n",
       "  <thead>\n",
       "    <tr style=\"text-align: right;\">\n",
       "      <th></th>\n",
       "      <th>var1</th>\n",
       "      <th>var2</th>\n",
       "      <th>var3</th>\n",
       "      <th>var4</th>\n",
       "      <th>var5</th>\n",
       "      <th>var6</th>\n",
       "      <th>var7</th>\n",
       "      <th>var8</th>\n",
       "      <th>var9</th>\n",
       "      <th>var10</th>\n",
       "      <th>...</th>\n",
       "      <th>var375</th>\n",
       "      <th>var376</th>\n",
       "      <th>var377</th>\n",
       "      <th>var378</th>\n",
       "      <th>var379</th>\n",
       "      <th>var380</th>\n",
       "      <th>var381</th>\n",
       "      <th>var382</th>\n",
       "      <th>var383</th>\n",
       "      <th>var384</th>\n",
       "    </tr>\n",
       "  </thead>\n",
       "  <tbody>\n",
       "    <tr>\n",
       "      <th>0</th>\n",
       "      <td>0.044055</td>\n",
       "      <td>-0.037812</td>\n",
       "      <td>-0.046742</td>\n",
       "      <td>-0.058751</td>\n",
       "      <td>-0.030506</td>\n",
       "      <td>-0.007182</td>\n",
       "      <td>0.004631</td>\n",
       "      <td>-0.034763</td>\n",
       "      <td>-0.023560</td>\n",
       "      <td>0.032016</td>\n",
       "      <td>...</td>\n",
       "      <td>0.086414</td>\n",
       "      <td>0.029855</td>\n",
       "      <td>0.020063</td>\n",
       "      <td>0.117472</td>\n",
       "      <td>-0.007197</td>\n",
       "      <td>0.052057</td>\n",
       "      <td>0.083963</td>\n",
       "      <td>-0.056377</td>\n",
       "      <td>-0.104993</td>\n",
       "      <td>0.007351</td>\n",
       "    </tr>\n",
       "    <tr>\n",
       "      <th>1</th>\n",
       "      <td>0.028836</td>\n",
       "      <td>-0.031617</td>\n",
       "      <td>-0.009857</td>\n",
       "      <td>-0.026089</td>\n",
       "      <td>-0.040901</td>\n",
       "      <td>0.005985</td>\n",
       "      <td>0.035503</td>\n",
       "      <td>0.000702</td>\n",
       "      <td>-0.093927</td>\n",
       "      <td>0.048798</td>\n",
       "      <td>...</td>\n",
       "      <td>0.012260</td>\n",
       "      <td>0.060640</td>\n",
       "      <td>0.015442</td>\n",
       "      <td>0.103465</td>\n",
       "      <td>-0.000201</td>\n",
       "      <td>0.033084</td>\n",
       "      <td>0.081812</td>\n",
       "      <td>-0.019731</td>\n",
       "      <td>-0.088551</td>\n",
       "      <td>-0.021547</td>\n",
       "    </tr>\n",
       "    <tr>\n",
       "      <th>2</th>\n",
       "      <td>0.017432</td>\n",
       "      <td>-0.075919</td>\n",
       "      <td>-0.009621</td>\n",
       "      <td>-0.029945</td>\n",
       "      <td>0.006810</td>\n",
       "      <td>0.035520</td>\n",
       "      <td>0.050545</td>\n",
       "      <td>-0.017675</td>\n",
       "      <td>-0.036567</td>\n",
       "      <td>0.058980</td>\n",
       "      <td>...</td>\n",
       "      <td>0.026964</td>\n",
       "      <td>0.046765</td>\n",
       "      <td>0.022106</td>\n",
       "      <td>0.106689</td>\n",
       "      <td>0.026996</td>\n",
       "      <td>0.052468</td>\n",
       "      <td>0.061247</td>\n",
       "      <td>-0.044247</td>\n",
       "      <td>-0.111405</td>\n",
       "      <td>-0.016630</td>\n",
       "    </tr>\n",
       "    <tr>\n",
       "      <th>3</th>\n",
       "      <td>0.017432</td>\n",
       "      <td>-0.075919</td>\n",
       "      <td>-0.009621</td>\n",
       "      <td>-0.029945</td>\n",
       "      <td>0.006810</td>\n",
       "      <td>0.035520</td>\n",
       "      <td>0.050545</td>\n",
       "      <td>-0.017675</td>\n",
       "      <td>-0.036567</td>\n",
       "      <td>0.058980</td>\n",
       "      <td>...</td>\n",
       "      <td>0.026964</td>\n",
       "      <td>0.046765</td>\n",
       "      <td>0.022106</td>\n",
       "      <td>0.106689</td>\n",
       "      <td>0.026996</td>\n",
       "      <td>0.052468</td>\n",
       "      <td>0.061247</td>\n",
       "      <td>-0.044247</td>\n",
       "      <td>-0.111405</td>\n",
       "      <td>-0.016630</td>\n",
       "    </tr>\n",
       "    <tr>\n",
       "      <th>4</th>\n",
       "      <td>0.044055</td>\n",
       "      <td>-0.037812</td>\n",
       "      <td>-0.046742</td>\n",
       "      <td>-0.058751</td>\n",
       "      <td>-0.030506</td>\n",
       "      <td>-0.007182</td>\n",
       "      <td>0.004631</td>\n",
       "      <td>-0.034763</td>\n",
       "      <td>-0.023560</td>\n",
       "      <td>0.032016</td>\n",
       "      <td>...</td>\n",
       "      <td>0.086414</td>\n",
       "      <td>0.029855</td>\n",
       "      <td>0.020063</td>\n",
       "      <td>0.117472</td>\n",
       "      <td>-0.007197</td>\n",
       "      <td>0.052057</td>\n",
       "      <td>0.083963</td>\n",
       "      <td>-0.056377</td>\n",
       "      <td>-0.104993</td>\n",
       "      <td>0.007351</td>\n",
       "    </tr>\n",
       "  </tbody>\n",
       "</table>\n",
       "<p>5 rows × 384 columns</p>\n",
       "</div>"
      ],
      "text/plain": [
       "       var1      var2      var3      var4      var5      var6      var7  \\\n",
       "0  0.044055 -0.037812 -0.046742 -0.058751 -0.030506 -0.007182  0.004631   \n",
       "1  0.028836 -0.031617 -0.009857 -0.026089 -0.040901  0.005985  0.035503   \n",
       "2  0.017432 -0.075919 -0.009621 -0.029945  0.006810  0.035520  0.050545   \n",
       "3  0.017432 -0.075919 -0.009621 -0.029945  0.006810  0.035520  0.050545   \n",
       "4  0.044055 -0.037812 -0.046742 -0.058751 -0.030506 -0.007182  0.004631   \n",
       "\n",
       "       var8      var9     var10  ...    var375    var376    var377    var378  \\\n",
       "0 -0.034763 -0.023560  0.032016  ...  0.086414  0.029855  0.020063  0.117472   \n",
       "1  0.000702 -0.093927  0.048798  ...  0.012260  0.060640  0.015442  0.103465   \n",
       "2 -0.017675 -0.036567  0.058980  ...  0.026964  0.046765  0.022106  0.106689   \n",
       "3 -0.017675 -0.036567  0.058980  ...  0.026964  0.046765  0.022106  0.106689   \n",
       "4 -0.034763 -0.023560  0.032016  ...  0.086414  0.029855  0.020063  0.117472   \n",
       "\n",
       "     var379    var380    var381    var382    var383    var384  \n",
       "0 -0.007197  0.052057  0.083963 -0.056377 -0.104993  0.007351  \n",
       "1 -0.000201  0.033084  0.081812 -0.019731 -0.088551 -0.021547  \n",
       "2  0.026996  0.052468  0.061247 -0.044247 -0.111405 -0.016630  \n",
       "3  0.026996  0.052468  0.061247 -0.044247 -0.111405 -0.016630  \n",
       "4 -0.007197  0.052057  0.083963 -0.056377 -0.104993  0.007351  \n",
       "\n",
       "[5 rows x 384 columns]"
      ]
     },
     "execution_count": 101,
     "metadata": {},
     "output_type": "execute_result"
    }
   ],
   "source": [
    "variables = pd.DataFrame(embeddings)\n",
    "variables.columns = [f\"var{i+1}\" for i in range(variables.shape[1])]\n",
    "\n",
    "variables.head(5)"
   ]
  },
  {
   "cell_type": "markdown",
   "id": "63f543c1",
   "metadata": {
    "id": "63f543c1"
   },
   "source": [
    "## Clustering"
   ]
  },
  {
   "cell_type": "code",
   "execution_count": null,
   "id": "d0ab264d",
   "metadata": {
    "id": "d0ab264d",
    "outputId": "545833c5-f425-4584-9c74-af1efa5ffe43"
   },
   "outputs": [
    {
     "data": {
      "text/plain": [
       "array([ 0,  1,  2, ...,  6,  6, 10], dtype=int64)"
      ]
     },
     "execution_count": 102,
     "metadata": {},
     "output_type": "execute_result"
    }
   ],
   "source": [
    "clusterer = DBSCAN(eps=0.5, min_samples=5)\n",
    "cluster_labels = clusterer.fit_predict(variables)\n",
    "\n",
    "cluster_labels"
   ]
  },
  {
   "cell_type": "markdown",
   "id": "df90cf67",
   "metadata": {
    "id": "df90cf67"
   },
   "source": [
    "## Dimension Reduction"
   ]
  },
  {
   "cell_type": "code",
   "execution_count": null,
   "id": "825c5901",
   "metadata": {
    "id": "825c5901",
    "outputId": "d60041f4-1873-4322-879f-e54ebca0a9e9"
   },
   "outputs": [
    {
     "name": "stderr",
     "output_type": "stream",
     "text": [
      "c:\\Users\\imre2\\AppData\\Local\\Programs\\Python\\Python310\\lib\\site-packages\\umap\\umap_.py:1945: UserWarning: n_jobs value 1 overridden to 1 by setting random_state. Use no seed for parallelism.\n",
      "  warn(f\"n_jobs value {self.n_jobs} overridden to 1 by setting random_state. Use no seed for parallelism.\")\n"
     ]
    },
    {
     "data": {
      "text/html": [
       "<div>\n",
       "<style scoped>\n",
       "    .dataframe tbody tr th:only-of-type {\n",
       "        vertical-align: middle;\n",
       "    }\n",
       "\n",
       "    .dataframe tbody tr th {\n",
       "        vertical-align: top;\n",
       "    }\n",
       "\n",
       "    .dataframe thead th {\n",
       "        text-align: right;\n",
       "    }\n",
       "</style>\n",
       "<table border=\"1\" class=\"dataframe\">\n",
       "  <thead>\n",
       "    <tr style=\"text-align: right;\">\n",
       "      <th></th>\n",
       "      <th>0</th>\n",
       "      <th>1</th>\n",
       "    </tr>\n",
       "  </thead>\n",
       "  <tbody>\n",
       "    <tr>\n",
       "      <th>0</th>\n",
       "      <td>-9.096738</td>\n",
       "      <td>4.025567</td>\n",
       "    </tr>\n",
       "    <tr>\n",
       "      <th>1</th>\n",
       "      <td>-13.369172</td>\n",
       "      <td>-5.187746</td>\n",
       "    </tr>\n",
       "    <tr>\n",
       "      <th>2</th>\n",
       "      <td>-2.394631</td>\n",
       "      <td>-2.502319</td>\n",
       "    </tr>\n",
       "    <tr>\n",
       "      <th>3</th>\n",
       "      <td>-2.281008</td>\n",
       "      <td>-2.499649</td>\n",
       "    </tr>\n",
       "    <tr>\n",
       "      <th>4</th>\n",
       "      <td>-8.437615</td>\n",
       "      <td>4.159530</td>\n",
       "    </tr>\n",
       "  </tbody>\n",
       "</table>\n",
       "</div>"
      ],
      "text/plain": [
       "           0         1\n",
       "0  -9.096738  4.025567\n",
       "1 -13.369172 -5.187746\n",
       "2  -2.394631 -2.502319\n",
       "3  -2.281008 -2.499649\n",
       "4  -8.437615  4.159530"
      ]
     },
     "execution_count": 103,
     "metadata": {},
     "output_type": "execute_result"
    }
   ],
   "source": [
    "reducer = umap.UMAP(random_state=20, n_neighbors=10, n_components=2, metric='euclidean')\n",
    "embedding = reducer.fit_transform(variables)\n",
    "bivalues = pd.DataFrame(embedding)\n",
    "\n",
    "bivalues.head(5)\n"
   ]
  },
  {
   "cell_type": "code",
   "execution_count": null,
   "id": "4e7d6e48",
   "metadata": {
    "id": "4e7d6e48",
    "outputId": "4d7e789e-1e04-41e2-909b-a11c6823341b"
   },
   "outputs": [
    {
     "data": {
      "text/html": [
       "<div>\n",
       "<style scoped>\n",
       "    .dataframe tbody tr th:only-of-type {\n",
       "        vertical-align: middle;\n",
       "    }\n",
       "\n",
       "    .dataframe tbody tr th {\n",
       "        vertical-align: top;\n",
       "    }\n",
       "\n",
       "    .dataframe thead th {\n",
       "        text-align: right;\n",
       "    }\n",
       "</style>\n",
       "<table border=\"1\" class=\"dataframe\">\n",
       "  <thead>\n",
       "    <tr style=\"text-align: right;\">\n",
       "      <th></th>\n",
       "      <th>x</th>\n",
       "      <th>y</th>\n",
       "      <th>color</th>\n",
       "    </tr>\n",
       "  </thead>\n",
       "  <tbody>\n",
       "    <tr>\n",
       "      <th>0</th>\n",
       "      <td>-9.096738</td>\n",
       "      <td>4.025567</td>\n",
       "      <td>0</td>\n",
       "    </tr>\n",
       "    <tr>\n",
       "      <th>1</th>\n",
       "      <td>-13.369172</td>\n",
       "      <td>-5.187746</td>\n",
       "      <td>1</td>\n",
       "    </tr>\n",
       "    <tr>\n",
       "      <th>2</th>\n",
       "      <td>-2.394631</td>\n",
       "      <td>-2.502319</td>\n",
       "      <td>2</td>\n",
       "    </tr>\n",
       "    <tr>\n",
       "      <th>3</th>\n",
       "      <td>-2.281008</td>\n",
       "      <td>-2.499649</td>\n",
       "      <td>2</td>\n",
       "    </tr>\n",
       "    <tr>\n",
       "      <th>4</th>\n",
       "      <td>-8.437615</td>\n",
       "      <td>4.159530</td>\n",
       "      <td>0</td>\n",
       "    </tr>\n",
       "  </tbody>\n",
       "</table>\n",
       "</div>"
      ],
      "text/plain": [
       "           x         y  color\n",
       "0  -9.096738  4.025567      0\n",
       "1 -13.369172 -5.187746      1\n",
       "2  -2.394631 -2.502319      2\n",
       "3  -2.281008 -2.499649      2\n",
       "4  -8.437615  4.159530      0"
      ]
     },
     "execution_count": 104,
     "metadata": {},
     "output_type": "execute_result"
    }
   ],
   "source": [
    "bivalues.columns = ['x', 'y']\n",
    "bivalues['color'] = pd.DataFrame(cluster_labels)\n",
    "bivalues.head(5)"
   ]
  },
  {
   "cell_type": "markdown",
   "id": "f15a6b47",
   "metadata": {
    "id": "f15a6b47"
   },
   "source": [
    "## Visualization"
   ]
  },
  {
   "cell_type": "code",
   "execution_count": null,
   "id": "a20955fb",
   "metadata": {
    "id": "a20955fb",
    "outputId": "50318188-dec5-4429-a7ea-be74be9380a0"
   },
   "outputs": [
    {
     "data": {
      "text/plain": [
       "array([ 0,  1,  2,  3,  4,  5,  6,  7,  8,  9, 10, 11], dtype=int64)"
      ]
     },
     "execution_count": 105,
     "metadata": {},
     "output_type": "execute_result"
    }
   ],
   "source": [
    "bivalues['color'].unique()"
   ]
  },
  {
   "cell_type": "code",
   "execution_count": null,
   "id": "6753d27b",
   "metadata": {
    "id": "6753d27b",
    "outputId": "f303a4dc-d1c9-46c6-e889-b08fcc4514a1"
   },
   "outputs": [
    {
     "data": {
      "image/png": "[encoded data removed]",
      "text/plain": [
       "<Figure size 800x600 with 2 Axes>"
      ]
     },
     "metadata": {},
     "output_type": "display_data"
    }
   ],
   "source": [
    "\n",
    "plt.figure(figsize=(8, 6))\n",
    "#cmap = ListedColormap(['blue', 'green', 'red', 'purple', 'orange', 'cyan', 'magenta', 'yellow', 'brown', 'pink', 'gray', 'olive'])\n",
    "cmap = ListedColormap(['yellow', 'orange', 'red', 'pink', 'purple', 'lightblue', 'darkblue', 'darkgreen', 'lightgreen', 'khaki', 'brown', 'gray'])\n",
    "plt.scatter(bivalues['x'], bivalues['y'], c=bivalues['color'], cmap=cmap, s=100, edgecolors='k', alpha=0.5)\n",
    "plt.colorbar(label='Color')\n",
    "plt.xlabel('X')\n",
    "plt.ylabel('Y')\n",
    "plt.title('Groups of different wording used by successful ads')\n",
    "plt.show()"
   ]
  }
 ],
 "metadata": {
  "colab": {
   "provenance": []
  },
  "kernelspec": {
   "display_name": "Python 3 (ipykernel)",
   "language": "python",
   "name": "python3"
  },
  "language_info": {
   "codemirror_mode": {
    "name": "ipython",
    "version": 3
   },
   "file_extension": ".py",
   "mimetype": "text/x-python",
   "name": "python",
   "nbconvert_exporter": "python",
   "pygments_lexer": "ipython3",
   "version": "3.10.9"
  }
 },
 "nbformat": 4,
 "nbformat_minor": 5
}
