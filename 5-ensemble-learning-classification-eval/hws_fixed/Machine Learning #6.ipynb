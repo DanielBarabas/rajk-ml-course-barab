{
 "cells": [
  {
   "cell_type": "markdown",
   "id": "e19bbf49",
   "metadata": {},
   "source": [
    "## Loading Packages"
   ]
  },
  {
   "cell_type": "code",
   "execution_count": 1,
   "id": "75281dbb",
   "metadata": {},
   "outputs": [],
   "source": [
    "import umap\n",
    "import pandas as pd\n",
    "from sentence_transformers import SentenceTransformer\n",
    "from sklearn.cluster import DBSCAN, HDBSCAN\n",
    "from sklearn.preprocessing import StandardScaler\n",
    "import matplotlib.pyplot as plt\n",
    "from matplotlib.colors import ListedColormap\n"
   ]
  },
  {
   "cell_type": "markdown",
   "id": "e1e6e5fe",
   "metadata": {},
   "source": [
    "## Loading and Exploring Data"
   ]
  },
  {
   "cell_type": "markdown",
   "id": "3e3e80db",
   "metadata": {},
   "source": [
    "Betöltöm az adatot és vetek egy első pillantást rájuk. A klaszterezést az \"ad_creative\" string változó alapján létrehozott vektorok segítségével, valamint a \"signup_date\" és az \"activity\" alapján hozom létre. Azt akarom megválaszolni, hogy milyen fogyasztói csoportok alakultak ki, már a hirdetések alapján.\n"
   ]
  },
  {
   "cell_type": "code",
   "execution_count": 2,
   "id": "f0d189fd",
   "metadata": {},
   "outputs": [],
   "source": [
    "url = 'https://storage.googleapis.com/superlinked-notebook-user-acquisiton-analytics/user_acquisiton_data.csv'\n",
    "df = pd.read_csv(url)"
   ]
  },
  {
   "cell_type": "code",
   "execution_count": 3,
   "id": "bd649ebb",
   "metadata": {
    "scrolled": true
   },
   "outputs": [
    {
     "data": {
      "text/html": [
       "<div>\n",
       "<style scoped>\n",
       "    .dataframe tbody tr th:only-of-type {\n",
       "        vertical-align: middle;\n",
       "    }\n",
       "\n",
       "    .dataframe tbody tr th {\n",
       "        vertical-align: top;\n",
       "    }\n",
       "\n",
       "    .dataframe thead th {\n",
       "        text-align: right;\n",
       "    }\n",
       "</style>\n",
       "<table border=\"1\" class=\"dataframe\">\n",
       "  <thead>\n",
       "    <tr style=\"text-align: right;\">\n",
       "      <th></th>\n",
       "      <th>id</th>\n",
       "      <th>signup_date</th>\n",
       "      <th>ad_creative</th>\n",
       "      <th>activity</th>\n",
       "    </tr>\n",
       "  </thead>\n",
       "  <tbody>\n",
       "    <tr>\n",
       "      <th>0</th>\n",
       "      <td>0</td>\n",
       "      <td>1693044869</td>\n",
       "      <td>Join a dynamic gaming universe where every cha...</td>\n",
       "      <td>0.295882</td>\n",
       "    </tr>\n",
       "    <tr>\n",
       "      <th>1</th>\n",
       "      <td>1</td>\n",
       "      <td>1694581577</td>\n",
       "      <td>Join a thriving gaming community and challenge...</td>\n",
       "      <td>1.138306</td>\n",
       "    </tr>\n",
       "    <tr>\n",
       "      <th>2</th>\n",
       "      <td>2</td>\n",
       "      <td>1693557423</td>\n",
       "      <td>Experience the rush of competitive gaming! Joi...</td>\n",
       "      <td>0.005266</td>\n",
       "    </tr>\n",
       "  </tbody>\n",
       "</table>\n",
       "</div>"
      ],
      "text/plain": [
       "   id  signup_date                                        ad_creative  \\\n",
       "0   0   1693044869  Join a dynamic gaming universe where every cha...   \n",
       "1   1   1694581577  Join a thriving gaming community and challenge...   \n",
       "2   2   1693557423  Experience the rush of competitive gaming! Joi...   \n",
       "\n",
       "   activity  \n",
       "0  0.295882  \n",
       "1  1.138306  \n",
       "2  0.005266  "
      ]
     },
     "execution_count": 3,
     "metadata": {},
     "output_type": "execute_result"
    }
   ],
   "source": [
    "df.iloc[0,1]\n",
    "df.head(3)\n",
    "#df.columns"
   ]
  },
  {
   "cell_type": "code",
   "execution_count": 4,
   "id": "eb4bbb2f",
   "metadata": {},
   "outputs": [
    {
     "data": {
      "text/plain": [
       "array(['Join a dynamic gaming universe where every challenge pushes your skills to the limit! Connect with like-minded gamers and conquer the virtual realm together!',\n",
       "       'Join a thriving gaming community and challenge your skills against formidable opponents!',\n",
       "       'Experience the rush of competitive gaming! Join now to connect with fellow gamers and test your mettle in epic battles!',\n",
       "       'Step into the arena of endless possibilities! Join now to engage in exhilarating gaming competitions and forge friendships with fellow gamers along the way!',\n",
       "       'Enter the realm of gaming excellence! Join our vibrant community and compete against some of the most skilled players worldwide!',\n",
       "       'Seeking thrilling gaming adventures? Join our community of gamers and embark on epic quests against worthy adversaries!',\n",
       "       'Unleash your gaming potential! Upgrade to premium for 2 months free and dominate the competition with XYZCr$$d!',\n",
       "       'Embark on your gaming journey with XYZCr$$d! Join now and experience the thrill of competing against the finest players worldwide!',\n",
       "       'Elevate your gaming experience! Upgrade now for 2 months free premium access and immerse yourself in the ultimate gaming community of XYZCr$$d!',\n",
       "       'Ready to level up? Join XYZCr$$d now for intense gaming battles and exclusive rewards!',\n",
       "       \"Calling all gamers! Don't miss out on your chance to excel. Join XYZCr$$d today for unparalleled gaming excitement and endless challenges!\",\n",
       "       'Become a gaming legend! Join XYZCr$$d now and test your skills against top-tier players from around the globe. Upgrade to premium for 2 months free!'],\n",
       "      dtype=object)"
      ]
     },
     "execution_count": 4,
     "metadata": {},
     "output_type": "execute_result"
    }
   ],
   "source": [
    "df['ad_creative'].unique()"
   ]
  },
  {
   "cell_type": "markdown",
   "id": "82a8f94b",
   "metadata": {},
   "source": [
    "## Creating String-based Vectors"
   ]
  },
  {
   "cell_type": "code",
   "execution_count": 5,
   "id": "9dd58a66",
   "metadata": {},
   "outputs": [],
   "source": [
    "model = SentenceTransformer(\"all-MiniLM-L6-v2\")\n",
    "embeddings = model.encode(df['ad_creative'])"
   ]
  },
  {
   "cell_type": "code",
   "execution_count": 6,
   "id": "09edddea",
   "metadata": {},
   "outputs": [
    {
     "data": {
      "text/html": [
       "<div>\n",
       "<style scoped>\n",
       "    .dataframe tbody tr th:only-of-type {\n",
       "        vertical-align: middle;\n",
       "    }\n",
       "\n",
       "    .dataframe tbody tr th {\n",
       "        vertical-align: top;\n",
       "    }\n",
       "\n",
       "    .dataframe thead th {\n",
       "        text-align: right;\n",
       "    }\n",
       "</style>\n",
       "<table border=\"1\" class=\"dataframe\">\n",
       "  <thead>\n",
       "    <tr style=\"text-align: right;\">\n",
       "      <th></th>\n",
       "      <th>var1</th>\n",
       "      <th>var2</th>\n",
       "      <th>var3</th>\n",
       "      <th>var4</th>\n",
       "      <th>var5</th>\n",
       "      <th>var6</th>\n",
       "      <th>var7</th>\n",
       "      <th>var8</th>\n",
       "      <th>var9</th>\n",
       "      <th>var10</th>\n",
       "      <th>...</th>\n",
       "      <th>var375</th>\n",
       "      <th>var376</th>\n",
       "      <th>var377</th>\n",
       "      <th>var378</th>\n",
       "      <th>var379</th>\n",
       "      <th>var380</th>\n",
       "      <th>var381</th>\n",
       "      <th>var382</th>\n",
       "      <th>var383</th>\n",
       "      <th>var384</th>\n",
       "    </tr>\n",
       "  </thead>\n",
       "  <tbody>\n",
       "    <tr>\n",
       "      <th>0</th>\n",
       "      <td>0.044055</td>\n",
       "      <td>-0.037812</td>\n",
       "      <td>-0.046742</td>\n",
       "      <td>-0.058751</td>\n",
       "      <td>-0.030506</td>\n",
       "      <td>-0.007182</td>\n",
       "      <td>0.004631</td>\n",
       "      <td>-0.034763</td>\n",
       "      <td>-0.023560</td>\n",
       "      <td>0.032016</td>\n",
       "      <td>...</td>\n",
       "      <td>0.086414</td>\n",
       "      <td>0.029855</td>\n",
       "      <td>0.020063</td>\n",
       "      <td>0.117472</td>\n",
       "      <td>-0.007197</td>\n",
       "      <td>0.052057</td>\n",
       "      <td>0.083963</td>\n",
       "      <td>-0.056377</td>\n",
       "      <td>-0.104993</td>\n",
       "      <td>0.007351</td>\n",
       "    </tr>\n",
       "    <tr>\n",
       "      <th>1</th>\n",
       "      <td>0.028836</td>\n",
       "      <td>-0.031617</td>\n",
       "      <td>-0.009857</td>\n",
       "      <td>-0.026089</td>\n",
       "      <td>-0.040901</td>\n",
       "      <td>0.005985</td>\n",
       "      <td>0.035503</td>\n",
       "      <td>0.000702</td>\n",
       "      <td>-0.093927</td>\n",
       "      <td>0.048798</td>\n",
       "      <td>...</td>\n",
       "      <td>0.012260</td>\n",
       "      <td>0.060640</td>\n",
       "      <td>0.015442</td>\n",
       "      <td>0.103465</td>\n",
       "      <td>-0.000201</td>\n",
       "      <td>0.033084</td>\n",
       "      <td>0.081812</td>\n",
       "      <td>-0.019731</td>\n",
       "      <td>-0.088551</td>\n",
       "      <td>-0.021547</td>\n",
       "    </tr>\n",
       "    <tr>\n",
       "      <th>2</th>\n",
       "      <td>0.017432</td>\n",
       "      <td>-0.075919</td>\n",
       "      <td>-0.009621</td>\n",
       "      <td>-0.029945</td>\n",
       "      <td>0.006810</td>\n",
       "      <td>0.035520</td>\n",
       "      <td>0.050545</td>\n",
       "      <td>-0.017675</td>\n",
       "      <td>-0.036567</td>\n",
       "      <td>0.058980</td>\n",
       "      <td>...</td>\n",
       "      <td>0.026964</td>\n",
       "      <td>0.046765</td>\n",
       "      <td>0.022106</td>\n",
       "      <td>0.106689</td>\n",
       "      <td>0.026996</td>\n",
       "      <td>0.052468</td>\n",
       "      <td>0.061247</td>\n",
       "      <td>-0.044247</td>\n",
       "      <td>-0.111405</td>\n",
       "      <td>-0.016630</td>\n",
       "    </tr>\n",
       "    <tr>\n",
       "      <th>3</th>\n",
       "      <td>0.017432</td>\n",
       "      <td>-0.075919</td>\n",
       "      <td>-0.009621</td>\n",
       "      <td>-0.029945</td>\n",
       "      <td>0.006810</td>\n",
       "      <td>0.035520</td>\n",
       "      <td>0.050545</td>\n",
       "      <td>-0.017675</td>\n",
       "      <td>-0.036567</td>\n",
       "      <td>0.058980</td>\n",
       "      <td>...</td>\n",
       "      <td>0.026964</td>\n",
       "      <td>0.046765</td>\n",
       "      <td>0.022106</td>\n",
       "      <td>0.106689</td>\n",
       "      <td>0.026996</td>\n",
       "      <td>0.052468</td>\n",
       "      <td>0.061247</td>\n",
       "      <td>-0.044247</td>\n",
       "      <td>-0.111405</td>\n",
       "      <td>-0.016630</td>\n",
       "    </tr>\n",
       "    <tr>\n",
       "      <th>4</th>\n",
       "      <td>0.044055</td>\n",
       "      <td>-0.037812</td>\n",
       "      <td>-0.046742</td>\n",
       "      <td>-0.058751</td>\n",
       "      <td>-0.030506</td>\n",
       "      <td>-0.007182</td>\n",
       "      <td>0.004631</td>\n",
       "      <td>-0.034763</td>\n",
       "      <td>-0.023560</td>\n",
       "      <td>0.032016</td>\n",
       "      <td>...</td>\n",
       "      <td>0.086414</td>\n",
       "      <td>0.029855</td>\n",
       "      <td>0.020063</td>\n",
       "      <td>0.117472</td>\n",
       "      <td>-0.007197</td>\n",
       "      <td>0.052057</td>\n",
       "      <td>0.083963</td>\n",
       "      <td>-0.056377</td>\n",
       "      <td>-0.104993</td>\n",
       "      <td>0.007351</td>\n",
       "    </tr>\n",
       "  </tbody>\n",
       "</table>\n",
       "<p>5 rows × 384 columns</p>\n",
       "</div>"
      ],
      "text/plain": [
       "       var1      var2      var3      var4      var5      var6      var7  \\\n",
       "0  0.044055 -0.037812 -0.046742 -0.058751 -0.030506 -0.007182  0.004631   \n",
       "1  0.028836 -0.031617 -0.009857 -0.026089 -0.040901  0.005985  0.035503   \n",
       "2  0.017432 -0.075919 -0.009621 -0.029945  0.006810  0.035520  0.050545   \n",
       "3  0.017432 -0.075919 -0.009621 -0.029945  0.006810  0.035520  0.050545   \n",
       "4  0.044055 -0.037812 -0.046742 -0.058751 -0.030506 -0.007182  0.004631   \n",
       "\n",
       "       var8      var9     var10  ...    var375    var376    var377    var378  \\\n",
       "0 -0.034763 -0.023560  0.032016  ...  0.086414  0.029855  0.020063  0.117472   \n",
       "1  0.000702 -0.093927  0.048798  ...  0.012260  0.060640  0.015442  0.103465   \n",
       "2 -0.017675 -0.036567  0.058980  ...  0.026964  0.046765  0.022106  0.106689   \n",
       "3 -0.017675 -0.036567  0.058980  ...  0.026964  0.046765  0.022106  0.106689   \n",
       "4 -0.034763 -0.023560  0.032016  ...  0.086414  0.029855  0.020063  0.117472   \n",
       "\n",
       "     var379    var380    var381    var382    var383    var384  \n",
       "0 -0.007197  0.052057  0.083963 -0.056377 -0.104993  0.007351  \n",
       "1 -0.000201  0.033084  0.081812 -0.019731 -0.088551 -0.021547  \n",
       "2  0.026996  0.052468  0.061247 -0.044247 -0.111405 -0.016630  \n",
       "3  0.026996  0.052468  0.061247 -0.044247 -0.111405 -0.016630  \n",
       "4 -0.007197  0.052057  0.083963 -0.056377 -0.104993  0.007351  \n",
       "\n",
       "[5 rows x 384 columns]"
      ]
     },
     "execution_count": 6,
     "metadata": {},
     "output_type": "execute_result"
    }
   ],
   "source": [
    "variables = pd.DataFrame(embeddings)\n",
    "variables.columns = [f\"var{i+1}\" for i in range(variables.shape[1])]\n",
    "\n",
    "variables.head(5)"
   ]
  },
  {
   "cell_type": "markdown",
   "id": "4fb1d4cc",
   "metadata": {},
   "source": [
    "Ezen a ponton nem teljesen egyértelmű, hogy a \"signup_date\" és az \"activity\" skálázását hogyan lehet úgy megoldani, hogy több jelentéstartalommal bírjanak, mint a string alapján létrehozott 382 dimenziós vektorok bármelyik eleme. Arra jutottam, hogy a változókat standardizálom. Mivel a string változó értékkészlete kis elemszámú, az általuk létrehozott vektorok is merőben hasonlítanak. Ekkor újabb változó bevonásával nagyban változhat a klaszterezés eredménye. Az azonban továbbra is aggodalmam, hogy hogyan lehet jobban súlyozni egyes változókat. Itt a távolságról van szó, szóval egy változó értékeinek az csökkentése kisebb távolságokban nyílvánul meg, ami szorosabb kapcsolódást jelent az adott változó mentén."
   ]
  },
  {
   "cell_type": "code",
   "execution_count": 7,
   "id": "f1ad3433",
   "metadata": {},
   "outputs": [
    {
     "data": {
      "text/plain": [
       "1.0000625058599855"
      ]
     },
     "execution_count": 7,
     "metadata": {},
     "output_type": "execute_result"
    }
   ],
   "source": [
    "scaler = StandardScaler()\n",
    "variables['norm_signup_date'] = scaler.fit_transform(df[['signup_date']])\n",
    "variables['norm_activity'] = scaler.fit_transform(df[['activity']])\n",
    "\n",
    "variables.tail(5)\n",
    "variables.head(5)\n",
    "\n",
    "variables['norm_activity'].mean()\n",
    "variables['norm_activity'].std()"
   ]
  },
  {
   "cell_type": "code",
   "execution_count": 8,
   "id": "9f2a522b",
   "metadata": {},
   "outputs": [],
   "source": [
    "scaler = StandardScaler()\n",
    "\n",
    "# Normalize each variable in the DataFrame\n",
    "for column in variables.columns:\n",
    "    variables[column] = scaler.fit_transform(variables[[column]])"
   ]
  },
  {
   "cell_type": "code",
   "execution_count": 9,
   "id": "7898651c",
   "metadata": {},
   "outputs": [],
   "source": [
    "variables['norm_signup_date'] = variables['norm_signup_date'] * 5\n",
    "variables['norm_activity'] = variables['norm_activity'] * 5\n"
   ]
  },
  {
   "cell_type": "code",
   "execution_count": 10,
   "id": "72240a4e",
   "metadata": {},
   "outputs": [
    {
     "data": {
      "text/html": [
       "<div>\n",
       "<style scoped>\n",
       "    .dataframe tbody tr th:only-of-type {\n",
       "        vertical-align: middle;\n",
       "    }\n",
       "\n",
       "    .dataframe tbody tr th {\n",
       "        vertical-align: top;\n",
       "    }\n",
       "\n",
       "    .dataframe thead th {\n",
       "        text-align: right;\n",
       "    }\n",
       "</style>\n",
       "<table border=\"1\" class=\"dataframe\">\n",
       "  <thead>\n",
       "    <tr style=\"text-align: right;\">\n",
       "      <th></th>\n",
       "      <th>var1</th>\n",
       "      <th>var2</th>\n",
       "      <th>var3</th>\n",
       "      <th>var4</th>\n",
       "      <th>var5</th>\n",
       "      <th>var6</th>\n",
       "      <th>var7</th>\n",
       "      <th>var8</th>\n",
       "      <th>var9</th>\n",
       "      <th>var10</th>\n",
       "      <th>...</th>\n",
       "      <th>var377</th>\n",
       "      <th>var378</th>\n",
       "      <th>var379</th>\n",
       "      <th>var380</th>\n",
       "      <th>var381</th>\n",
       "      <th>var382</th>\n",
       "      <th>var383</th>\n",
       "      <th>var384</th>\n",
       "      <th>norm_signup_date</th>\n",
       "      <th>norm_activity</th>\n",
       "    </tr>\n",
       "  </thead>\n",
       "  <tbody>\n",
       "    <tr>\n",
       "      <th>0</th>\n",
       "      <td>1.424704</td>\n",
       "      <td>-0.370294</td>\n",
       "      <td>-1.847227</td>\n",
       "      <td>-0.438461</td>\n",
       "      <td>-0.380464</td>\n",
       "      <td>-0.260372</td>\n",
       "      <td>-1.598891</td>\n",
       "      <td>-0.522629</td>\n",
       "      <td>1.377670</td>\n",
       "      <td>-1.860425</td>\n",
       "      <td>...</td>\n",
       "      <td>1.690922</td>\n",
       "      <td>0.569877</td>\n",
       "      <td>-0.063225</td>\n",
       "      <td>-0.248921</td>\n",
       "      <td>1.000563</td>\n",
       "      <td>0.126941</td>\n",
       "      <td>-0.154848</td>\n",
       "      <td>2.053559</td>\n",
       "      <td>-8.870260</td>\n",
       "      <td>-0.251465</td>\n",
       "    </tr>\n",
       "    <tr>\n",
       "      <th>1</th>\n",
       "      <td>1.073374</td>\n",
       "      <td>-0.167067</td>\n",
       "      <td>0.255372</td>\n",
       "      <td>0.655636</td>\n",
       "      <td>-0.648856</td>\n",
       "      <td>0.283580</td>\n",
       "      <td>-0.527723</td>\n",
       "      <td>0.975186</td>\n",
       "      <td>-1.264749</td>\n",
       "      <td>-0.884078</td>\n",
       "      <td>...</td>\n",
       "      <td>1.497120</td>\n",
       "      <td>-0.134477</td>\n",
       "      <td>0.172357</td>\n",
       "      <td>-0.835140</td>\n",
       "      <td>0.913230</td>\n",
       "      <td>1.729156</td>\n",
       "      <td>0.325814</td>\n",
       "      <td>0.304884</td>\n",
       "      <td>-7.229645</td>\n",
       "      <td>15.532820</td>\n",
       "    </tr>\n",
       "    <tr>\n",
       "      <th>2</th>\n",
       "      <td>0.810110</td>\n",
       "      <td>-1.620342</td>\n",
       "      <td>0.268842</td>\n",
       "      <td>0.526450</td>\n",
       "      <td>0.582958</td>\n",
       "      <td>1.503750</td>\n",
       "      <td>-0.005803</td>\n",
       "      <td>0.199031</td>\n",
       "      <td>0.889254</td>\n",
       "      <td>-0.291663</td>\n",
       "      <td>...</td>\n",
       "      <td>1.776620</td>\n",
       "      <td>0.027674</td>\n",
       "      <td>1.088217</td>\n",
       "      <td>-0.236227</td>\n",
       "      <td>0.078238</td>\n",
       "      <td>0.657268</td>\n",
       "      <td>-0.342282</td>\n",
       "      <td>0.602471</td>\n",
       "      <td>-8.323049</td>\n",
       "      <td>-5.696660</td>\n",
       "    </tr>\n",
       "    <tr>\n",
       "      <th>3</th>\n",
       "      <td>0.810110</td>\n",
       "      <td>-1.620342</td>\n",
       "      <td>0.268842</td>\n",
       "      <td>0.526450</td>\n",
       "      <td>0.582958</td>\n",
       "      <td>1.503750</td>\n",
       "      <td>-0.005803</td>\n",
       "      <td>0.199031</td>\n",
       "      <td>0.889254</td>\n",
       "      <td>-0.291663</td>\n",
       "      <td>...</td>\n",
       "      <td>1.776620</td>\n",
       "      <td>0.027674</td>\n",
       "      <td>1.088217</td>\n",
       "      <td>-0.236227</td>\n",
       "      <td>0.078238</td>\n",
       "      <td>0.657268</td>\n",
       "      <td>-0.342282</td>\n",
       "      <td>0.602471</td>\n",
       "      <td>-8.583782</td>\n",
       "      <td>-0.214663</td>\n",
       "    </tr>\n",
       "    <tr>\n",
       "      <th>4</th>\n",
       "      <td>1.424704</td>\n",
       "      <td>-0.370294</td>\n",
       "      <td>-1.847227</td>\n",
       "      <td>-0.438461</td>\n",
       "      <td>-0.380464</td>\n",
       "      <td>-0.260372</td>\n",
       "      <td>-1.598891</td>\n",
       "      <td>-0.522629</td>\n",
       "      <td>1.377670</td>\n",
       "      <td>-1.860425</td>\n",
       "      <td>...</td>\n",
       "      <td>1.690922</td>\n",
       "      <td>0.569877</td>\n",
       "      <td>-0.063225</td>\n",
       "      <td>-0.248921</td>\n",
       "      <td>1.000563</td>\n",
       "      <td>0.126941</td>\n",
       "      <td>-0.154848</td>\n",
       "      <td>2.053559</td>\n",
       "      <td>-9.063738</td>\n",
       "      <td>-3.566641</td>\n",
       "    </tr>\n",
       "  </tbody>\n",
       "</table>\n",
       "<p>5 rows × 386 columns</p>\n",
       "</div>"
      ],
      "text/plain": [
       "       var1      var2      var3      var4      var5      var6      var7  \\\n",
       "0  1.424704 -0.370294 -1.847227 -0.438461 -0.380464 -0.260372 -1.598891   \n",
       "1  1.073374 -0.167067  0.255372  0.655636 -0.648856  0.283580 -0.527723   \n",
       "2  0.810110 -1.620342  0.268842  0.526450  0.582958  1.503750 -0.005803   \n",
       "3  0.810110 -1.620342  0.268842  0.526450  0.582958  1.503750 -0.005803   \n",
       "4  1.424704 -0.370294 -1.847227 -0.438461 -0.380464 -0.260372 -1.598891   \n",
       "\n",
       "       var8      var9     var10  ...    var377    var378    var379    var380  \\\n",
       "0 -0.522629  1.377670 -1.860425  ...  1.690922  0.569877 -0.063225 -0.248921   \n",
       "1  0.975186 -1.264749 -0.884078  ...  1.497120 -0.134477  0.172357 -0.835140   \n",
       "2  0.199031  0.889254 -0.291663  ...  1.776620  0.027674  1.088217 -0.236227   \n",
       "3  0.199031  0.889254 -0.291663  ...  1.776620  0.027674  1.088217 -0.236227   \n",
       "4 -0.522629  1.377670 -1.860425  ...  1.690922  0.569877 -0.063225 -0.248921   \n",
       "\n",
       "     var381    var382    var383    var384  norm_signup_date  norm_activity  \n",
       "0  1.000563  0.126941 -0.154848  2.053559         -8.870260      -0.251465  \n",
       "1  0.913230  1.729156  0.325814  0.304884         -7.229645      15.532820  \n",
       "2  0.078238  0.657268 -0.342282  0.602471         -8.323049      -5.696660  \n",
       "3  0.078238  0.657268 -0.342282  0.602471         -8.583782      -0.214663  \n",
       "4  1.000563  0.126941 -0.154848  2.053559         -9.063738      -3.566641  \n",
       "\n",
       "[5 rows x 386 columns]"
      ]
     },
     "execution_count": 10,
     "metadata": {},
     "output_type": "execute_result"
    }
   ],
   "source": [
    "variables.tail(5)\n",
    "variables.head(5)"
   ]
  },
  {
   "cell_type": "markdown",
   "id": "63f543c1",
   "metadata": {},
   "source": [
    "## Clustering"
   ]
  },
  {
   "cell_type": "code",
   "execution_count": 11,
   "id": "383c3313",
   "metadata": {},
   "outputs": [],
   "source": [
    "hdbscan = HDBSCAN(min_cluster_size = 500, min_samples=15)\n",
    "hdbscan_clusters = hdbscan.fit_predict(variables)"
   ]
  },
  {
   "cell_type": "code",
   "execution_count": 12,
   "id": "4a39a508",
   "metadata": {},
   "outputs": [
    {
     "data": {
      "text/plain": [
       " 6    1785\n",
       " 0    1340\n",
       " 1    1312\n",
       " 5     715\n",
       " 3     671\n",
       "-1     642\n",
       " 2     533\n",
       " 4     501\n",
       " 7     501\n",
       "dtype: int64"
      ]
     },
     "execution_count": 12,
     "metadata": {},
     "output_type": "execute_result"
    }
   ],
   "source": [
    "pd.DataFrame(hdbscan_clusters).value_counts()"
   ]
  },
  {
   "cell_type": "markdown",
   "id": "df90cf67",
   "metadata": {},
   "source": [
    "## Dimension Reduction"
   ]
  },
  {
   "cell_type": "code",
   "execution_count": 13,
   "id": "825c5901",
   "metadata": {},
   "outputs": [
    {
     "name": "stderr",
     "output_type": "stream",
     "text": [
      "c:\\Users\\imre2\\AppData\\Local\\Programs\\Python\\Python310\\lib\\site-packages\\umap\\umap_.py:1945: UserWarning: n_jobs value 1 overridden to 1 by setting random_state. Use no seed for parallelism.\n",
      "  warn(f\"n_jobs value {self.n_jobs} overridden to 1 by setting random_state. Use no seed for parallelism.\")\n"
     ]
    },
    {
     "data": {
      "text/html": [
       "<div>\n",
       "<style scoped>\n",
       "    .dataframe tbody tr th:only-of-type {\n",
       "        vertical-align: middle;\n",
       "    }\n",
       "\n",
       "    .dataframe tbody tr th {\n",
       "        vertical-align: top;\n",
       "    }\n",
       "\n",
       "    .dataframe thead th {\n",
       "        text-align: right;\n",
       "    }\n",
       "</style>\n",
       "<table border=\"1\" class=\"dataframe\">\n",
       "  <thead>\n",
       "    <tr style=\"text-align: right;\">\n",
       "      <th></th>\n",
       "      <th>0</th>\n",
       "      <th>1</th>\n",
       "    </tr>\n",
       "  </thead>\n",
       "  <tbody>\n",
       "    <tr>\n",
       "      <th>0</th>\n",
       "      <td>13.784438</td>\n",
       "      <td>-6.582511</td>\n",
       "    </tr>\n",
       "    <tr>\n",
       "      <th>1</th>\n",
       "      <td>3.987396</td>\n",
       "      <td>6.328078</td>\n",
       "    </tr>\n",
       "    <tr>\n",
       "      <th>2</th>\n",
       "      <td>13.603423</td>\n",
       "      <td>-12.890030</td>\n",
       "    </tr>\n",
       "    <tr>\n",
       "      <th>3</th>\n",
       "      <td>13.400729</td>\n",
       "      <td>-10.254668</td>\n",
       "    </tr>\n",
       "    <tr>\n",
       "      <th>4</th>\n",
       "      <td>10.607294</td>\n",
       "      <td>-5.870636</td>\n",
       "    </tr>\n",
       "  </tbody>\n",
       "</table>\n",
       "</div>"
      ],
      "text/plain": [
       "           0          1\n",
       "0  13.784438  -6.582511\n",
       "1   3.987396   6.328078\n",
       "2  13.603423 -12.890030\n",
       "3  13.400729 -10.254668\n",
       "4  10.607294  -5.870636"
      ]
     },
     "execution_count": 13,
     "metadata": {},
     "output_type": "execute_result"
    }
   ],
   "source": [
    "reducer = umap.UMAP(random_state=0, n_neighbors=10, n_components=2, metric='euclidean')\n",
    "embedding = reducer.fit_transform(variables)\n",
    "bivalues = pd.DataFrame(embedding)\n",
    "\n",
    "bivalues.head(5)\n"
   ]
  },
  {
   "cell_type": "code",
   "execution_count": 14,
   "id": "4e7d6e48",
   "metadata": {},
   "outputs": [
    {
     "data": {
      "text/html": [
       "<div>\n",
       "<style scoped>\n",
       "    .dataframe tbody tr th:only-of-type {\n",
       "        vertical-align: middle;\n",
       "    }\n",
       "\n",
       "    .dataframe tbody tr th {\n",
       "        vertical-align: top;\n",
       "    }\n",
       "\n",
       "    .dataframe thead th {\n",
       "        text-align: right;\n",
       "    }\n",
       "</style>\n",
       "<table border=\"1\" class=\"dataframe\">\n",
       "  <thead>\n",
       "    <tr style=\"text-align: right;\">\n",
       "      <th></th>\n",
       "      <th>x</th>\n",
       "      <th>y</th>\n",
       "      <th>color</th>\n",
       "    </tr>\n",
       "  </thead>\n",
       "  <tbody>\n",
       "    <tr>\n",
       "      <th>0</th>\n",
       "      <td>13.784438</td>\n",
       "      <td>-6.582511</td>\n",
       "      <td>3</td>\n",
       "    </tr>\n",
       "    <tr>\n",
       "      <th>1</th>\n",
       "      <td>3.987396</td>\n",
       "      <td>6.328078</td>\n",
       "      <td>4</td>\n",
       "    </tr>\n",
       "    <tr>\n",
       "      <th>2</th>\n",
       "      <td>13.603423</td>\n",
       "      <td>-12.890030</td>\n",
       "      <td>0</td>\n",
       "    </tr>\n",
       "    <tr>\n",
       "      <th>3</th>\n",
       "      <td>13.400729</td>\n",
       "      <td>-10.254668</td>\n",
       "      <td>0</td>\n",
       "    </tr>\n",
       "    <tr>\n",
       "      <th>4</th>\n",
       "      <td>10.607294</td>\n",
       "      <td>-5.870636</td>\n",
       "      <td>3</td>\n",
       "    </tr>\n",
       "  </tbody>\n",
       "</table>\n",
       "</div>"
      ],
      "text/plain": [
       "           x          y  color\n",
       "0  13.784438  -6.582511      3\n",
       "1   3.987396   6.328078      4\n",
       "2  13.603423 -12.890030      0\n",
       "3  13.400729 -10.254668      0\n",
       "4  10.607294  -5.870636      3"
      ]
     },
     "execution_count": 14,
     "metadata": {},
     "output_type": "execute_result"
    }
   ],
   "source": [
    "bivalues.columns = ['x', 'y']\n",
    "bivalues['color'] = pd.DataFrame(hdbscan_clusters)\n",
    "bivalues.head(5)"
   ]
  },
  {
   "cell_type": "markdown",
   "id": "f15a6b47",
   "metadata": {},
   "source": [
    "## Visualization"
   ]
  },
  {
   "cell_type": "code",
   "execution_count": 15,
   "id": "a20955fb",
   "metadata": {},
   "outputs": [
    {
     "data": {
      "text/plain": [
       "7"
      ]
     },
     "execution_count": 15,
     "metadata": {},
     "output_type": "execute_result"
    }
   ],
   "source": [
    "bivalues['color'].unique()\n",
    "bivalues['color'].max()"
   ]
  },
  {
   "cell_type": "code",
   "execution_count": 16,
   "id": "6753d27b",
   "metadata": {},
   "outputs": [
    {
     "data": {
      "image/png": "[encoded data removed]",
      "text/plain": [
       "<Figure size 800x600 with 2 Axes>"
      ]
     },
     "metadata": {},
     "output_type": "display_data"
    }
   ],
   "source": [
    "\n",
    "plt.figure(figsize=(8, 6))\n",
    "cmap = ListedColormap(['blue', 'green', 'red', 'purple', 'orange', 'cyan', 'magenta', 'yellow', 'brown'])\n",
    "#cmap = ListedColormap(['yellow', 'orange', 'red', 'pink', 'purple', 'lightblue', 'darkblue', 'darkgreen', 'lightgreen'])\n",
    "plt.scatter(bivalues['x'], bivalues['y'], c=bivalues['color'], cmap=cmap, s=15, edgecolors='k', alpha=0.3)\n",
    "plt.colorbar(label='Color')\n",
    "plt.xlabel('X Dimension')\n",
    "plt.ylabel('Y Dimension')\n",
    "plt.title('Groups of different user histoty by successful ads')\n",
    "plt.show()"
   ]
  }
 ],
 "metadata": {
  "kernelspec": {
   "display_name": "Python 3 (ipykernel)",
   "language": "python",
   "name": "python3"
  },
  "language_info": {
   "codemirror_mode": {
    "name": "ipython",
    "version": 3
   },
   "file_extension": ".py",
   "mimetype": "text/x-python",
   "name": "python",
   "nbconvert_exporter": "python",
   "pygments_lexer": "ipython3",
   "version": "3.10.9"
  }
 },
 "nbformat": 4,
 "nbformat_minor": 5
}
