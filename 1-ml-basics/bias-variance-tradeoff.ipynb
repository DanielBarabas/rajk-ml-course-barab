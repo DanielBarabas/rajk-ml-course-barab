{
 "cells": [
  {
   "cell_type": "markdown",
   "metadata": {},
   "source": [
    "### source: \n",
    "https://machinelearningmastery.com/calculate-the-bias-variance-trade-off/\n",
    "I can recommend this site!\n",
    "\n",
    "### extended by: \n",
    "<a href=https://github.com/morkapronczay>morkapronczay</a>"
   ]
  },
  {
   "cell_type": "code",
   "execution_count": 1,
   "metadata": {
    "execution": {
     "iopub.execute_input": "2022-02-06T18:36:20.780491Z",
     "iopub.status.busy": "2022-02-06T18:36:20.780000Z",
     "iopub.status.idle": "2022-02-06T18:36:21.687772Z",
     "shell.execute_reply": "2022-02-06T18:36:21.687290Z",
     "shell.execute_reply.started": "2022-02-06T18:36:20.780409Z"
    },
    "tags": []
   },
   "outputs": [],
   "source": [
    "%matplotlib inline\n",
    "import pandas as pd\n",
    "import matplotlib.pyplot as plt\n",
    "from sklearn.model_selection import train_test_split\n",
    "from sklearn.linear_model import LinearRegression\n",
    "from sklearn.tree import DecisionTreeRegressor\n",
    "from sklearn.ensemble import RandomForestRegressor\n",
    "from mlxtend.evaluate import bias_variance_decomp"
   ]
  },
  {
   "cell_type": "markdown",
   "metadata": {},
   "source": [
    "# GET DATA"
   ]
  },
  {
   "cell_type": "code",
   "execution_count": 2,
   "metadata": {
    "execution": {
     "iopub.execute_input": "2022-02-06T18:36:21.688877Z",
     "iopub.status.busy": "2022-02-06T18:36:21.688763Z",
     "iopub.status.idle": "2022-02-06T18:36:21.919189Z",
     "shell.execute_reply": "2022-02-06T18:36:21.918617Z",
     "shell.execute_reply.started": "2022-02-06T18:36:21.688862Z"
    },
    "tags": []
   },
   "outputs": [],
   "source": [
    "url = 'https://raw.githubusercontent.com/jbrownlee/Datasets/master/housing.csv'\n",
    "df = pd.read_csv(url, header=None)"
   ]
  },
  {
   "cell_type": "code",
   "execution_count": 3,
   "metadata": {
    "execution": {
     "iopub.execute_input": "2022-02-06T18:36:21.920488Z",
     "iopub.status.busy": "2022-02-06T18:36:21.920076Z",
     "iopub.status.idle": "2022-02-06T18:36:21.951339Z",
     "shell.execute_reply": "2022-02-06T18:36:21.950819Z",
     "shell.execute_reply.started": "2022-02-06T18:36:21.920458Z"
    },
    "tags": []
   },
   "outputs": [
    {
     "data": {
      "text/html": [
       "<div>\n",
       "<style scoped>\n",
       "    .dataframe tbody tr th:only-of-type {\n",
       "        vertical-align: middle;\n",
       "    }\n",
       "\n",
       "    .dataframe tbody tr th {\n",
       "        vertical-align: top;\n",
       "    }\n",
       "\n",
       "    .dataframe thead th {\n",
       "        text-align: right;\n",
       "    }\n",
       "</style>\n",
       "<table border=\"1\" class=\"dataframe\">\n",
       "  <thead>\n",
       "    <tr style=\"text-align: right;\">\n",
       "      <th></th>\n",
       "      <th>0</th>\n",
       "      <th>1</th>\n",
       "      <th>2</th>\n",
       "      <th>3</th>\n",
       "      <th>4</th>\n",
       "      <th>5</th>\n",
       "      <th>6</th>\n",
       "      <th>7</th>\n",
       "      <th>8</th>\n",
       "      <th>9</th>\n",
       "      <th>10</th>\n",
       "      <th>11</th>\n",
       "      <th>12</th>\n",
       "      <th>13</th>\n",
       "    </tr>\n",
       "  </thead>\n",
       "  <tbody>\n",
       "    <tr>\n",
       "      <th>0</th>\n",
       "      <td>0.00632</td>\n",
       "      <td>18.0</td>\n",
       "      <td>2.31</td>\n",
       "      <td>0</td>\n",
       "      <td>0.538</td>\n",
       "      <td>6.575</td>\n",
       "      <td>65.2</td>\n",
       "      <td>4.0900</td>\n",
       "      <td>1</td>\n",
       "      <td>296.0</td>\n",
       "      <td>15.3</td>\n",
       "      <td>396.90</td>\n",
       "      <td>4.98</td>\n",
       "      <td>24.0</td>\n",
       "    </tr>\n",
       "    <tr>\n",
       "      <th>1</th>\n",
       "      <td>0.02731</td>\n",
       "      <td>0.0</td>\n",
       "      <td>7.07</td>\n",
       "      <td>0</td>\n",
       "      <td>0.469</td>\n",
       "      <td>6.421</td>\n",
       "      <td>78.9</td>\n",
       "      <td>4.9671</td>\n",
       "      <td>2</td>\n",
       "      <td>242.0</td>\n",
       "      <td>17.8</td>\n",
       "      <td>396.90</td>\n",
       "      <td>9.14</td>\n",
       "      <td>21.6</td>\n",
       "    </tr>\n",
       "    <tr>\n",
       "      <th>2</th>\n",
       "      <td>0.02729</td>\n",
       "      <td>0.0</td>\n",
       "      <td>7.07</td>\n",
       "      <td>0</td>\n",
       "      <td>0.469</td>\n",
       "      <td>7.185</td>\n",
       "      <td>61.1</td>\n",
       "      <td>4.9671</td>\n",
       "      <td>2</td>\n",
       "      <td>242.0</td>\n",
       "      <td>17.8</td>\n",
       "      <td>392.83</td>\n",
       "      <td>4.03</td>\n",
       "      <td>34.7</td>\n",
       "    </tr>\n",
       "    <tr>\n",
       "      <th>3</th>\n",
       "      <td>0.03237</td>\n",
       "      <td>0.0</td>\n",
       "      <td>2.18</td>\n",
       "      <td>0</td>\n",
       "      <td>0.458</td>\n",
       "      <td>6.998</td>\n",
       "      <td>45.8</td>\n",
       "      <td>6.0622</td>\n",
       "      <td>3</td>\n",
       "      <td>222.0</td>\n",
       "      <td>18.7</td>\n",
       "      <td>394.63</td>\n",
       "      <td>2.94</td>\n",
       "      <td>33.4</td>\n",
       "    </tr>\n",
       "    <tr>\n",
       "      <th>4</th>\n",
       "      <td>0.06905</td>\n",
       "      <td>0.0</td>\n",
       "      <td>2.18</td>\n",
       "      <td>0</td>\n",
       "      <td>0.458</td>\n",
       "      <td>7.147</td>\n",
       "      <td>54.2</td>\n",
       "      <td>6.0622</td>\n",
       "      <td>3</td>\n",
       "      <td>222.0</td>\n",
       "      <td>18.7</td>\n",
       "      <td>396.90</td>\n",
       "      <td>5.33</td>\n",
       "      <td>36.2</td>\n",
       "    </tr>\n",
       "    <tr>\n",
       "      <th>...</th>\n",
       "      <td>...</td>\n",
       "      <td>...</td>\n",
       "      <td>...</td>\n",
       "      <td>...</td>\n",
       "      <td>...</td>\n",
       "      <td>...</td>\n",
       "      <td>...</td>\n",
       "      <td>...</td>\n",
       "      <td>...</td>\n",
       "      <td>...</td>\n",
       "      <td>...</td>\n",
       "      <td>...</td>\n",
       "      <td>...</td>\n",
       "      <td>...</td>\n",
       "    </tr>\n",
       "    <tr>\n",
       "      <th>501</th>\n",
       "      <td>0.06263</td>\n",
       "      <td>0.0</td>\n",
       "      <td>11.93</td>\n",
       "      <td>0</td>\n",
       "      <td>0.573</td>\n",
       "      <td>6.593</td>\n",
       "      <td>69.1</td>\n",
       "      <td>2.4786</td>\n",
       "      <td>1</td>\n",
       "      <td>273.0</td>\n",
       "      <td>21.0</td>\n",
       "      <td>391.99</td>\n",
       "      <td>9.67</td>\n",
       "      <td>22.4</td>\n",
       "    </tr>\n",
       "    <tr>\n",
       "      <th>502</th>\n",
       "      <td>0.04527</td>\n",
       "      <td>0.0</td>\n",
       "      <td>11.93</td>\n",
       "      <td>0</td>\n",
       "      <td>0.573</td>\n",
       "      <td>6.120</td>\n",
       "      <td>76.7</td>\n",
       "      <td>2.2875</td>\n",
       "      <td>1</td>\n",
       "      <td>273.0</td>\n",
       "      <td>21.0</td>\n",
       "      <td>396.90</td>\n",
       "      <td>9.08</td>\n",
       "      <td>20.6</td>\n",
       "    </tr>\n",
       "    <tr>\n",
       "      <th>503</th>\n",
       "      <td>0.06076</td>\n",
       "      <td>0.0</td>\n",
       "      <td>11.93</td>\n",
       "      <td>0</td>\n",
       "      <td>0.573</td>\n",
       "      <td>6.976</td>\n",
       "      <td>91.0</td>\n",
       "      <td>2.1675</td>\n",
       "      <td>1</td>\n",
       "      <td>273.0</td>\n",
       "      <td>21.0</td>\n",
       "      <td>396.90</td>\n",
       "      <td>5.64</td>\n",
       "      <td>23.9</td>\n",
       "    </tr>\n",
       "    <tr>\n",
       "      <th>504</th>\n",
       "      <td>0.10959</td>\n",
       "      <td>0.0</td>\n",
       "      <td>11.93</td>\n",
       "      <td>0</td>\n",
       "      <td>0.573</td>\n",
       "      <td>6.794</td>\n",
       "      <td>89.3</td>\n",
       "      <td>2.3889</td>\n",
       "      <td>1</td>\n",
       "      <td>273.0</td>\n",
       "      <td>21.0</td>\n",
       "      <td>393.45</td>\n",
       "      <td>6.48</td>\n",
       "      <td>22.0</td>\n",
       "    </tr>\n",
       "    <tr>\n",
       "      <th>505</th>\n",
       "      <td>0.04741</td>\n",
       "      <td>0.0</td>\n",
       "      <td>11.93</td>\n",
       "      <td>0</td>\n",
       "      <td>0.573</td>\n",
       "      <td>6.030</td>\n",
       "      <td>80.8</td>\n",
       "      <td>2.5050</td>\n",
       "      <td>1</td>\n",
       "      <td>273.0</td>\n",
       "      <td>21.0</td>\n",
       "      <td>396.90</td>\n",
       "      <td>7.88</td>\n",
       "      <td>11.9</td>\n",
       "    </tr>\n",
       "  </tbody>\n",
       "</table>\n",
       "<p>506 rows × 14 columns</p>\n",
       "</div>"
      ],
      "text/plain": [
       "          0     1      2   3      4      5     6       7   8      9     10  \\\n",
       "0    0.00632  18.0   2.31   0  0.538  6.575  65.2  4.0900   1  296.0  15.3   \n",
       "1    0.02731   0.0   7.07   0  0.469  6.421  78.9  4.9671   2  242.0  17.8   \n",
       "2    0.02729   0.0   7.07   0  0.469  7.185  61.1  4.9671   2  242.0  17.8   \n",
       "3    0.03237   0.0   2.18   0  0.458  6.998  45.8  6.0622   3  222.0  18.7   \n",
       "4    0.06905   0.0   2.18   0  0.458  7.147  54.2  6.0622   3  222.0  18.7   \n",
       "..       ...   ...    ...  ..    ...    ...   ...     ...  ..    ...   ...   \n",
       "501  0.06263   0.0  11.93   0  0.573  6.593  69.1  2.4786   1  273.0  21.0   \n",
       "502  0.04527   0.0  11.93   0  0.573  6.120  76.7  2.2875   1  273.0  21.0   \n",
       "503  0.06076   0.0  11.93   0  0.573  6.976  91.0  2.1675   1  273.0  21.0   \n",
       "504  0.10959   0.0  11.93   0  0.573  6.794  89.3  2.3889   1  273.0  21.0   \n",
       "505  0.04741   0.0  11.93   0  0.573  6.030  80.8  2.5050   1  273.0  21.0   \n",
       "\n",
       "         11    12    13  \n",
       "0    396.90  4.98  24.0  \n",
       "1    396.90  9.14  21.6  \n",
       "2    392.83  4.03  34.7  \n",
       "3    394.63  2.94  33.4  \n",
       "4    396.90  5.33  36.2  \n",
       "..      ...   ...   ...  \n",
       "501  391.99  9.67  22.4  \n",
       "502  396.90  9.08  20.6  \n",
       "503  396.90  5.64  23.9  \n",
       "504  393.45  6.48  22.0  \n",
       "505  396.90  7.88  11.9  \n",
       "\n",
       "[506 rows x 14 columns]"
      ]
     },
     "execution_count": 3,
     "metadata": {},
     "output_type": "execute_result"
    }
   ],
   "source": [
    "df"
   ]
  },
  {
   "cell_type": "code",
   "execution_count": 4,
   "metadata": {
    "execution": {
     "iopub.execute_input": "2022-02-06T18:36:21.953304Z",
     "iopub.status.busy": "2022-02-06T18:36:21.952870Z",
     "iopub.status.idle": "2022-02-06T18:36:21.958065Z",
     "shell.execute_reply": "2022-02-06T18:36:21.957491Z",
     "shell.execute_reply.started": "2022-02-06T18:36:21.953273Z"
    },
    "tags": []
   },
   "outputs": [],
   "source": [
    "# separate into inputs and outputs\n",
    "data = df.values\n",
    "X, y = data[:, :-1], data[:, -1]\n",
    "# split the data\n",
    "X_train, X_test, y_train, y_test = train_test_split(X, y, test_size=0.33, random_state=1)"
   ]
  },
  {
   "cell_type": "markdown",
   "metadata": {},
   "source": [
    "# BIAS-VARIANCE DECOMPOSITION\n",
    "\n",
    "<a href=https://en.wikipedia.org/wiki/Bias%E2%80%93variance_tradeoff>Decomposition details</a>\n",
    "\n",
    "## LINREG"
   ]
  },
  {
   "cell_type": "code",
   "execution_count": 5,
   "metadata": {
    "execution": {
     "iopub.execute_input": "2022-02-06T18:36:21.959291Z",
     "iopub.status.busy": "2022-02-06T18:36:21.958923Z",
     "iopub.status.idle": "2022-02-06T18:36:22.083473Z",
     "shell.execute_reply": "2022-02-06T18:36:22.083031Z",
     "shell.execute_reply.started": "2022-02-06T18:36:21.959263Z"
    },
    "tags": []
   },
   "outputs": [
    {
     "name": "stdout",
     "output_type": "stream",
     "text": [
      "MSE: 22.418\n",
      "Bias: 20.744\n",
      "Variance: 1.674\n"
     ]
    }
   ],
   "source": [
    "# define the model\n",
    "model = LinearRegression()\n",
    "# estimate bias and variance\n",
    "mse, bias, var = bias_variance_decomp(model, X_train, y_train, X_test, y_test, loss='mse', num_rounds=200, random_seed=1)\n",
    "# summarize results\n",
    "print('MSE: %.3f' % mse)\n",
    "print('Bias: %.3f' % bias)\n",
    "print('Variance: %.3f' % var)"
   ]
  },
  {
   "cell_type": "markdown",
   "metadata": {},
   "source": [
    "## DECISION TREE"
   ]
  },
  {
   "cell_type": "code",
   "execution_count": 6,
   "metadata": {
    "execution": {
     "iopub.execute_input": "2022-02-06T18:36:22.084191Z",
     "iopub.status.busy": "2022-02-06T18:36:22.084071Z",
     "iopub.status.idle": "2022-02-06T18:36:22.086521Z",
     "shell.execute_reply": "2022-02-06T18:36:22.086037Z",
     "shell.execute_reply.started": "2022-02-06T18:36:22.084173Z"
    },
    "tags": []
   },
   "outputs": [],
   "source": [
    "# save decision tree parameters\n",
    "decision_tree_params = {\"max_depth\": 10}"
   ]
  },
  {
   "cell_type": "code",
   "execution_count": 7,
   "metadata": {
    "execution": {
     "iopub.execute_input": "2022-02-06T18:36:22.087532Z",
     "iopub.status.busy": "2022-02-06T18:36:22.087254Z",
     "iopub.status.idle": "2022-02-06T18:36:22.374900Z",
     "shell.execute_reply": "2022-02-06T18:36:22.374533Z",
     "shell.execute_reply.started": "2022-02-06T18:36:22.087511Z"
    },
    "scrolled": true,
    "tags": []
   },
   "outputs": [
    {
     "name": "stdout",
     "output_type": "stream",
     "text": [
      "MSE: 25.205\n",
      "Bias: 9.813\n",
      "Variance: 15.392\n"
     ]
    }
   ],
   "source": [
    "# define the model\n",
    "model = DecisionTreeRegressor(**decision_tree_params)\n",
    "# estimate bias and variance\n",
    "mse, bias, var = bias_variance_decomp(model, X_train, y_train, X_test, y_test, loss='mse', num_rounds=200, random_seed=1)\n",
    "# summarize results\n",
    "print('MSE: %.3f' % mse)\n",
    "print('Bias: %.3f' % bias)\n",
    "print('Variance: %.3f' % var)"
   ]
  },
  {
   "cell_type": "markdown",
   "metadata": {},
   "source": [
    "## RANDOM FOREST"
   ]
  },
  {
   "cell_type": "code",
   "execution_count": 8,
   "metadata": {
    "execution": {
     "iopub.execute_input": "2022-02-06T18:36:22.375543Z",
     "iopub.status.busy": "2022-02-06T18:36:22.375443Z",
     "iopub.status.idle": "2022-02-06T18:36:28.265016Z",
     "shell.execute_reply": "2022-02-06T18:36:28.264479Z",
     "shell.execute_reply.started": "2022-02-06T18:36:22.375530Z"
    },
    "tags": []
   },
   "outputs": [
    {
     "name": "stdout",
     "output_type": "stream",
     "text": [
      "MSE: 13.864\n",
      "Bias: 10.352\n",
      "Variance: 3.512\n"
     ]
    }
   ],
   "source": [
    "# define the model\n",
    "model = RandomForestRegressor(**decision_tree_params, n_estimators=20)\n",
    "# estimate bias and variance\n",
    "mse, bias, var = bias_variance_decomp(model, X_train, y_train, X_test, y_test, loss='mse', num_rounds=200, random_seed=1)\n",
    "# summarize results\n",
    "print('MSE: %.3f' % mse)\n",
    "print('Bias: %.3f' % bias)\n",
    "print('Variance: %.3f' % var)"
   ]
  },
  {
   "cell_type": "markdown",
   "metadata": {},
   "source": [
    "# VISUALIZE TRADEOFF\n",
    "\n",
    "## DECISION TREE"
   ]
  },
  {
   "cell_type": "code",
   "execution_count": 9,
   "metadata": {
    "execution": {
     "iopub.execute_input": "2022-02-06T18:36:28.265685Z",
     "iopub.status.busy": "2022-02-06T18:36:28.265584Z",
     "iopub.status.idle": "2022-02-06T18:36:32.327122Z",
     "shell.execute_reply": "2022-02-06T18:36:32.326661Z",
     "shell.execute_reply.started": "2022-02-06T18:36:28.265671Z"
    }
   },
   "outputs": [],
   "source": [
    "# define the model\n",
    "mse = {}\n",
    "bias = {}\n",
    "var = {}\n",
    "for i in [0.0025 * f for f in range(1, 21)]:\n",
    "    model = DecisionTreeRegressor(min_samples_leaf = i)\n",
    "    # estimate bias and variance\n",
    "    mse[i], bias[i], var[i] = bias_variance_decomp(model, X_train, y_train, X_test, y_test,\n",
    "                                                   loss='mse', num_rounds=200, random_seed=1)"
   ]
  },
  {
   "cell_type": "code",
   "execution_count": 10,
   "metadata": {
    "execution": {
     "iopub.execute_input": "2022-02-06T18:36:32.328347Z",
     "iopub.status.busy": "2022-02-06T18:36:32.328244Z",
     "iopub.status.idle": "2022-02-06T18:36:32.332904Z",
     "shell.execute_reply": "2022-02-06T18:36:32.332425Z",
     "shell.execute_reply.started": "2022-02-06T18:36:32.328333Z"
    }
   },
   "outputs": [],
   "source": [
    "df = pd.DataFrame.from_dict(mse, orient='index')\n",
    "df.columns = ['mse']\n",
    "df['bias'] = df.index.map(bias)\n",
    "df['variance'] = df.index.map(var)"
   ]
  },
  {
   "cell_type": "code",
   "execution_count": 11,
   "metadata": {
    "execution": {
     "iopub.execute_input": "2022-02-06T18:36:32.333484Z",
     "iopub.status.busy": "2022-02-06T18:36:32.333385Z",
     "iopub.status.idle": "2022-02-06T18:36:32.342480Z",
     "shell.execute_reply": "2022-02-06T18:36:32.342088Z",
     "shell.execute_reply.started": "2022-02-06T18:36:32.333471Z"
    }
   },
   "outputs": [
    {
     "data": {
      "text/html": [
       "<div>\n",
       "<style scoped>\n",
       "    .dataframe tbody tr th:only-of-type {\n",
       "        vertical-align: middle;\n",
       "    }\n",
       "\n",
       "    .dataframe tbody tr th {\n",
       "        vertical-align: top;\n",
       "    }\n",
       "\n",
       "    .dataframe thead th {\n",
       "        text-align: right;\n",
       "    }\n",
       "</style>\n",
       "<table border=\"1\" class=\"dataframe\">\n",
       "  <thead>\n",
       "    <tr style=\"text-align: right;\">\n",
       "      <th></th>\n",
       "      <th>mse</th>\n",
       "      <th>bias</th>\n",
       "      <th>variance</th>\n",
       "    </tr>\n",
       "  </thead>\n",
       "  <tbody>\n",
       "    <tr>\n",
       "      <th>0.0025</th>\n",
       "      <td>25.537290</td>\n",
       "      <td>9.754571</td>\n",
       "      <td>15.782719</td>\n",
       "    </tr>\n",
       "    <tr>\n",
       "      <th>0.0050</th>\n",
       "      <td>24.034409</td>\n",
       "      <td>9.743413</td>\n",
       "      <td>14.290997</td>\n",
       "    </tr>\n",
       "    <tr>\n",
       "      <th>0.0075</th>\n",
       "      <td>23.925922</td>\n",
       "      <td>10.225459</td>\n",
       "      <td>13.700462</td>\n",
       "    </tr>\n",
       "    <tr>\n",
       "      <th>0.0100</th>\n",
       "      <td>23.618737</td>\n",
       "      <td>10.783786</td>\n",
       "      <td>12.834951</td>\n",
       "    </tr>\n",
       "    <tr>\n",
       "      <th>0.0125</th>\n",
       "      <td>23.878246</td>\n",
       "      <td>11.526410</td>\n",
       "      <td>12.351837</td>\n",
       "    </tr>\n",
       "  </tbody>\n",
       "</table>\n",
       "</div>"
      ],
      "text/plain": [
       "              mse       bias   variance\n",
       "0.0025  25.537290   9.754571  15.782719\n",
       "0.0050  24.034409   9.743413  14.290997\n",
       "0.0075  23.925922  10.225459  13.700462\n",
       "0.0100  23.618737  10.783786  12.834951\n",
       "0.0125  23.878246  11.526410  12.351837"
      ]
     },
     "execution_count": 11,
     "metadata": {},
     "output_type": "execute_result"
    }
   ],
   "source": [
    "df.head()"
   ]
  },
  {
   "cell_type": "code",
   "execution_count": 12,
   "metadata": {
    "execution": {
     "iopub.execute_input": "2022-02-06T18:36:32.343077Z",
     "iopub.status.busy": "2022-02-06T18:36:32.342978Z",
     "iopub.status.idle": "2022-02-06T18:36:32.476755Z",
     "shell.execute_reply": "2022-02-06T18:36:32.476326Z",
     "shell.execute_reply.started": "2022-02-06T18:36:32.343064Z"
    }
   },
   "outputs": [
    {
     "data": {
      "text/plain": [
       "<AxesSubplot:>"
      ]
     },
     "execution_count": 12,
     "metadata": {},
     "output_type": "execute_result"
    },
    {
     "data": {
      "image/png": "[encoded data removed]",
      "text/plain": [
       "<Figure size 1440x720 with 1 Axes>"
      ]
     },
     "metadata": {
      "needs_background": "light"
     },
     "output_type": "display_data"
    }
   ],
   "source": [
    "fig, ax = plt.subplots(figsize=(20, 10))\n",
    "df.plot(ax=ax)"
   ]
  },
  {
   "cell_type": "markdown",
   "metadata": {},
   "source": [
    "## RANDOM FOREST"
   ]
  },
  {
   "cell_type": "code",
   "execution_count": 13,
   "metadata": {
    "execution": {
     "iopub.execute_input": "2022-02-06T18:36:32.477409Z",
     "iopub.status.busy": "2022-02-06T18:36:32.477303Z",
     "iopub.status.idle": "2022-02-06T18:38:07.185335Z",
     "shell.execute_reply": "2022-02-06T18:38:07.184812Z",
     "shell.execute_reply.started": "2022-02-06T18:36:32.477395Z"
    }
   },
   "outputs": [],
   "source": [
    "# define the model\n",
    "mse = {}\n",
    "bias = {}\n",
    "var = {}\n",
    "for i in [0.0025 * f for f in range(1, 21)]:\n",
    "    model = RandomForestRegressor(min_samples_leaf = i, n_estimators=20)\n",
    "    # estimate bias and variance\n",
    "    mse[i], bias[i], var[i] = bias_variance_decomp(model, X_train, y_train, X_test, y_test,\n",
    "                                                   loss='mse', num_rounds=200, random_seed=1)"
   ]
  },
  {
   "cell_type": "code",
   "execution_count": 14,
   "metadata": {
    "execution": {
     "iopub.execute_input": "2022-02-06T18:38:07.185979Z",
     "iopub.status.busy": "2022-02-06T18:38:07.185881Z",
     "iopub.status.idle": "2022-02-06T18:38:07.190281Z",
     "shell.execute_reply": "2022-02-06T18:38:07.189891Z",
     "shell.execute_reply.started": "2022-02-06T18:38:07.185965Z"
    }
   },
   "outputs": [],
   "source": [
    "df = pd.DataFrame.from_dict(mse, orient='index')\n",
    "df.columns = ['mse']\n",
    "df['bias'] = df.index.map(bias)\n",
    "df['variance'] = df.index.map(var)"
   ]
  },
  {
   "cell_type": "code",
   "execution_count": 15,
   "metadata": {
    "execution": {
     "iopub.execute_input": "2022-02-06T18:38:07.190944Z",
     "iopub.status.busy": "2022-02-06T18:38:07.190848Z",
     "iopub.status.idle": "2022-02-06T18:38:07.317105Z",
     "shell.execute_reply": "2022-02-06T18:38:07.316601Z",
     "shell.execute_reply.started": "2022-02-06T18:38:07.190931Z"
    }
   },
   "outputs": [
    {
     "data": {
      "text/plain": [
       "<AxesSubplot:>"
      ]
     },
     "execution_count": 15,
     "metadata": {},
     "output_type": "execute_result"
    },
    {
     "data": {
      "image/png": "[encoded data removed]",
      "text/plain": [
       "<Figure size 1440x720 with 1 Axes>"
      ]
     },
     "metadata": {
      "needs_background": "light"
     },
     "output_type": "display_data"
    }
   ],
   "source": [
    "fig, ax = plt.subplots(figsize=(20, 10))\n",
    "df.plot(ax=ax)"
   ]
  }
 ],
 "metadata": {
  "kernelspec": {
   "display_name": "Python 3 (ipykernel)",
   "language": "python",
   "name": "python3"
  },
  "language_info": {
   "codemirror_mode": {
    "name": "ipython",
    "version": 3
   },
   "file_extension": ".py",
   "mimetype": "text/x-python",
   "name": "python",
   "nbconvert_exporter": "python",
   "pygments_lexer": "ipython3",
   "version": "3.10.9"
  },
  "toc": {
   "base_numbering": 1,
   "nav_menu": {},
   "number_sections": false,
   "sideBar": false,
   "skip_h1_title": false,
   "title_cell": "Table of Contents",
   "title_sidebar": "Contents",
   "toc_cell": false,
   "toc_position": {},
   "toc_section_display": false,
   "toc_window_display": false
  },
  "widgets": {
   "application/vnd.jupyter.widget-state+json": {
    "state": {},
    "version_major": 2,
    "version_minor": 0
   }
  }
 },
 "nbformat": 4,
 "nbformat_minor": 4
}
