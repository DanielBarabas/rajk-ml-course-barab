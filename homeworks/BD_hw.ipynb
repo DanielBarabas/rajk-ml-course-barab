{
 "cells": [
  {
   "cell_type": "code",
   "execution_count": 20,
   "metadata": {},
   "outputs": [],
   "source": [
    "import pandas as pd\n",
    "import matplotlib.pyplot as plt\n",
    "import matplotlib.dates as mdates\n",
    "from matplotlib.ticker import (MultipleLocator, \n",
    "                               FormatStrFormatter, \n",
    "                               AutoMinorLocator)"
   ]
  },
  {
   "attachments": {},
   "cell_type": "markdown",
   "metadata": {},
   "source": [
    "#### Load data"
   ]
  },
  {
   "cell_type": "code",
   "execution_count": 2,
   "metadata": {},
   "outputs": [],
   "source": [
    "data = pd.read_csv(\"population_sizes.csv\")"
   ]
  },
  {
   "cell_type": "code",
   "execution_count": 3,
   "metadata": {},
   "outputs": [
    {
     "data": {
      "text/html": [
       "<div>\n",
       "<style scoped>\n",
       "    .dataframe tbody tr th:only-of-type {\n",
       "        vertical-align: middle;\n",
       "    }\n",
       "\n",
       "    .dataframe tbody tr th {\n",
       "        vertical-align: top;\n",
       "    }\n",
       "\n",
       "    .dataframe thead th {\n",
       "        text-align: right;\n",
       "    }\n",
       "</style>\n",
       "<table border=\"1\" class=\"dataframe\">\n",
       "  <thead>\n",
       "    <tr style=\"text-align: right;\">\n",
       "      <th></th>\n",
       "      <th>report_month</th>\n",
       "      <th>churn</th>\n",
       "      <th>gain</th>\n",
       "      <th>total</th>\n",
       "      <th>registrations</th>\n",
       "    </tr>\n",
       "  </thead>\n",
       "  <tbody>\n",
       "    <tr>\n",
       "      <th>0</th>\n",
       "      <td>2009-01-01</td>\n",
       "      <td>0.0</td>\n",
       "      <td>24.0</td>\n",
       "      <td>0.0</td>\n",
       "      <td>11946</td>\n",
       "    </tr>\n",
       "    <tr>\n",
       "      <th>1</th>\n",
       "      <td>2009-02-01</td>\n",
       "      <td>2.0</td>\n",
       "      <td>14.0</td>\n",
       "      <td>24.0</td>\n",
       "      <td>12049</td>\n",
       "    </tr>\n",
       "    <tr>\n",
       "      <th>2</th>\n",
       "      <td>2009-03-01</td>\n",
       "      <td>3.0</td>\n",
       "      <td>4.0</td>\n",
       "      <td>36.0</td>\n",
       "      <td>11697</td>\n",
       "    </tr>\n",
       "    <tr>\n",
       "      <th>3</th>\n",
       "      <td>2009-04-01</td>\n",
       "      <td>3.0</td>\n",
       "      <td>4.0</td>\n",
       "      <td>37.0</td>\n",
       "      <td>9582</td>\n",
       "    </tr>\n",
       "    <tr>\n",
       "      <th>4</th>\n",
       "      <td>2009-05-01</td>\n",
       "      <td>2.0</td>\n",
       "      <td>3.0</td>\n",
       "      <td>38.0</td>\n",
       "      <td>10052</td>\n",
       "    </tr>\n",
       "  </tbody>\n",
       "</table>\n",
       "</div>"
      ],
      "text/plain": [
       "  report_month  churn  gain  total  registrations\n",
       "0   2009-01-01    0.0  24.0    0.0          11946\n",
       "1   2009-02-01    2.0  14.0   24.0          12049\n",
       "2   2009-03-01    3.0   4.0   36.0          11697\n",
       "3   2009-04-01    3.0   4.0   37.0           9582\n",
       "4   2009-05-01    2.0   3.0   38.0          10052"
      ]
     },
     "execution_count": 3,
     "metadata": {},
     "output_type": "execute_result"
    }
   ],
   "source": [
    "data.head()"
   ]
  },
  {
   "cell_type": "code",
   "execution_count": 4,
   "metadata": {},
   "outputs": [
    {
     "data": {
      "text/plain": [
       "156"
      ]
     },
     "execution_count": 4,
     "metadata": {},
     "output_type": "execute_result"
    }
   ],
   "source": [
    "len(data)"
   ]
  },
  {
   "attachments": {},
   "cell_type": "markdown",
   "metadata": {},
   "source": [
    "#### 1) Churn rate, conversion rate, regisztracio novekedesi utem, ami eszembe jut\n",
    "\n",
    "Mivel nincs lemorzsolódó 2009 január elöttről azt feltételezem, hogy ekkor indul az egész biznisz úgy, ahogy van, vagyis az összes regisztrált száma egy kummulált összeg lesz."
   ]
  },
  {
   "cell_type": "code",
   "execution_count": 9,
   "metadata": {},
   "outputs": [],
   "source": [
    "data = data.assign(\n",
    "    user_count = lambda x:x.registrations.cumsum(),\n",
    "    churn_rate_per_subscriber = lambda x: x.churn / x.total,\n",
    "    churn_rate_per_user = lambda x: x.churn / x.user_count,\n",
    "    conv_rate_per_subscriber = lambda x: x.gain / x.total,\n",
    "    conv_rate_per_user = lambda x:x.gain / x.user_count,\n",
    "    reg_delta = lambda x: x.registrations / x.registrations.shift(1),\n",
    "    churn_delta = lambda x: x.churn / x.churn.shift(1),\n",
    "    gain_delta = lambda x: x.gain / x.gain.shift(1),\n",
    "    date = lambda x: pd.to_datetime(x.report_month),\n",
    "    year = lambda x: x.date.dt.year,\n",
    "    month = lambda x: x.date.dt.month\n",
    ")"
   ]
  },
  {
   "cell_type": "code",
   "execution_count": 12,
   "metadata": {},
   "outputs": [
    {
     "data": {
      "text/html": [
       "<div>\n",
       "<style scoped>\n",
       "    .dataframe tbody tr th:only-of-type {\n",
       "        vertical-align: middle;\n",
       "    }\n",
       "\n",
       "    .dataframe tbody tr th {\n",
       "        vertical-align: top;\n",
       "    }\n",
       "\n",
       "    .dataframe thead th {\n",
       "        text-align: right;\n",
       "    }\n",
       "</style>\n",
       "<table border=\"1\" class=\"dataframe\">\n",
       "  <thead>\n",
       "    <tr style=\"text-align: right;\">\n",
       "      <th></th>\n",
       "      <th>report_month</th>\n",
       "      <th>churn</th>\n",
       "      <th>gain</th>\n",
       "      <th>total</th>\n",
       "      <th>registrations</th>\n",
       "      <th>user_count</th>\n",
       "      <th>churn_rate_per_subscriber</th>\n",
       "      <th>churn_rate_per_user</th>\n",
       "      <th>conv_rate_per_subscriber</th>\n",
       "      <th>conv_rate_per_user</th>\n",
       "      <th>reg_delta</th>\n",
       "      <th>churn_delta</th>\n",
       "      <th>gain_delta</th>\n",
       "      <th>date</th>\n",
       "      <th>year</th>\n",
       "      <th>month</th>\n",
       "    </tr>\n",
       "  </thead>\n",
       "  <tbody>\n",
       "    <tr>\n",
       "      <th>0</th>\n",
       "      <td>2009-01-01</td>\n",
       "      <td>0.0</td>\n",
       "      <td>24.0</td>\n",
       "      <td>0.0</td>\n",
       "      <td>11946</td>\n",
       "      <td>11946</td>\n",
       "      <td>NaN</td>\n",
       "      <td>0.000000</td>\n",
       "      <td>inf</td>\n",
       "      <td>0.002009</td>\n",
       "      <td>NaN</td>\n",
       "      <td>NaN</td>\n",
       "      <td>NaN</td>\n",
       "      <td>2009-01-01</td>\n",
       "      <td>2009</td>\n",
       "      <td>1</td>\n",
       "    </tr>\n",
       "    <tr>\n",
       "      <th>1</th>\n",
       "      <td>2009-02-01</td>\n",
       "      <td>2.0</td>\n",
       "      <td>14.0</td>\n",
       "      <td>24.0</td>\n",
       "      <td>12049</td>\n",
       "      <td>23995</td>\n",
       "      <td>0.083333</td>\n",
       "      <td>0.000083</td>\n",
       "      <td>0.583333</td>\n",
       "      <td>0.000583</td>\n",
       "      <td>1.008622</td>\n",
       "      <td>inf</td>\n",
       "      <td>0.583333</td>\n",
       "      <td>2009-02-01</td>\n",
       "      <td>2009</td>\n",
       "      <td>2</td>\n",
       "    </tr>\n",
       "    <tr>\n",
       "      <th>2</th>\n",
       "      <td>2009-03-01</td>\n",
       "      <td>3.0</td>\n",
       "      <td>4.0</td>\n",
       "      <td>36.0</td>\n",
       "      <td>11697</td>\n",
       "      <td>35692</td>\n",
       "      <td>0.083333</td>\n",
       "      <td>0.000084</td>\n",
       "      <td>0.111111</td>\n",
       "      <td>0.000112</td>\n",
       "      <td>0.970786</td>\n",
       "      <td>1.500000</td>\n",
       "      <td>0.285714</td>\n",
       "      <td>2009-03-01</td>\n",
       "      <td>2009</td>\n",
       "      <td>3</td>\n",
       "    </tr>\n",
       "    <tr>\n",
       "      <th>3</th>\n",
       "      <td>2009-04-01</td>\n",
       "      <td>3.0</td>\n",
       "      <td>4.0</td>\n",
       "      <td>37.0</td>\n",
       "      <td>9582</td>\n",
       "      <td>45274</td>\n",
       "      <td>0.081081</td>\n",
       "      <td>0.000066</td>\n",
       "      <td>0.108108</td>\n",
       "      <td>0.000088</td>\n",
       "      <td>0.819184</td>\n",
       "      <td>1.000000</td>\n",
       "      <td>1.000000</td>\n",
       "      <td>2009-04-01</td>\n",
       "      <td>2009</td>\n",
       "      <td>4</td>\n",
       "    </tr>\n",
       "    <tr>\n",
       "      <th>4</th>\n",
       "      <td>2009-05-01</td>\n",
       "      <td>2.0</td>\n",
       "      <td>3.0</td>\n",
       "      <td>38.0</td>\n",
       "      <td>10052</td>\n",
       "      <td>55326</td>\n",
       "      <td>0.052632</td>\n",
       "      <td>0.000036</td>\n",
       "      <td>0.078947</td>\n",
       "      <td>0.000054</td>\n",
       "      <td>1.049050</td>\n",
       "      <td>0.666667</td>\n",
       "      <td>0.750000</td>\n",
       "      <td>2009-05-01</td>\n",
       "      <td>2009</td>\n",
       "      <td>5</td>\n",
       "    </tr>\n",
       "  </tbody>\n",
       "</table>\n",
       "</div>"
      ],
      "text/plain": [
       "  report_month  churn  gain  total  registrations  user_count  \\\n",
       "0   2009-01-01    0.0  24.0    0.0          11946       11946   \n",
       "1   2009-02-01    2.0  14.0   24.0          12049       23995   \n",
       "2   2009-03-01    3.0   4.0   36.0          11697       35692   \n",
       "3   2009-04-01    3.0   4.0   37.0           9582       45274   \n",
       "4   2009-05-01    2.0   3.0   38.0          10052       55326   \n",
       "\n",
       "   churn_rate_per_subscriber  churn_rate_per_user  conv_rate_per_subscriber  \\\n",
       "0                        NaN             0.000000                       inf   \n",
       "1                   0.083333             0.000083                  0.583333   \n",
       "2                   0.083333             0.000084                  0.111111   \n",
       "3                   0.081081             0.000066                  0.108108   \n",
       "4                   0.052632             0.000036                  0.078947   \n",
       "\n",
       "   conv_rate_per_user  reg_delta  churn_delta  gain_delta       date  year  \\\n",
       "0            0.002009        NaN          NaN         NaN 2009-01-01  2009   \n",
       "1            0.000583   1.008622          inf    0.583333 2009-02-01  2009   \n",
       "2            0.000112   0.970786     1.500000    0.285714 2009-03-01  2009   \n",
       "3            0.000088   0.819184     1.000000    1.000000 2009-04-01  2009   \n",
       "4            0.000054   1.049050     0.666667    0.750000 2009-05-01  2009   \n",
       "\n",
       "   month  \n",
       "0      1  \n",
       "1      2  \n",
       "2      3  \n",
       "3      4  \n",
       "4      5  "
      ]
     },
     "execution_count": 12,
     "metadata": {},
     "output_type": "execute_result"
    }
   ],
   "source": [
    "data.head()"
   ]
  },
  {
   "cell_type": "code",
   "execution_count": 17,
   "metadata": {},
   "outputs": [
    {
     "data": {
      "text/plain": [
       "report_month                         object\n",
       "churn                               float64\n",
       "gain                                float64\n",
       "total                               float64\n",
       "registrations                         int64\n",
       "user_count                            int64\n",
       "churn_rate_per_subscriber           float64\n",
       "churn_rate_per_user                 float64\n",
       "conv_rate_per_subscriber            float64\n",
       "conv_rate_per_user                  float64\n",
       "reg_delta                           float64\n",
       "churn_delta                         float64\n",
       "gain_delta                          float64\n",
       "date                         datetime64[ns]\n",
       "year                                  int32\n",
       "month                                 int32\n",
       "dtype: object"
      ]
     },
     "execution_count": 17,
     "metadata": {},
     "output_type": "execute_result"
    }
   ],
   "source": [
    "data.dtypes"
   ]
  },
  {
   "attachments": {},
   "cell_type": "markdown",
   "metadata": {},
   "source": [
    "#### 2) Populáció dinamikája\n",
    "\n",
    "A populáció alatt az előfizetőket és a regisztrálókat is érthetjük. Lesz egy, ezek abszolút értékét ábrázoló ábra és egy, ami az új előfizetők, regisztrálók, lemorzsolódók változásának az ütemét ábrázolja majd\n"
   ]
  },
  {
   "attachments": {},
   "cell_type": "markdown",
   "metadata": {},
   "source": [
    "##### a) Plot"
   ]
  },
  {
   "cell_type": "code",
   "execution_count": 25,
   "metadata": {},
   "outputs": [
    {
     "data": {
      "image/png": "[encoded data removed]",
      "text/plain": [
       "<Figure size 640x480 with 2 Axes>"
      ]
     },
     "metadata": {},
     "output_type": "display_data"
    }
   ],
   "source": [
    "fig, ax1 = plt.subplots()\n",
    "ax1.plot(data[\"date\"],data[\"user_count\"],color = \"red\")\n",
    "ax1.set_xlabel(\"Date\")\n",
    "ax1.set_ylabel(\"Number of registered users\",color = \"red\")\n",
    "ax1.yaxis.set_major_formatter(FormatStrFormatter('%1.0f'))\n",
    "\n",
    "ax2 = ax1.twinx()\n",
    "ax2.plot(data[\"date\"],data[\"total\"], color = \"green\")\n",
    "ax2.set_ylabel(\"Number of subscribers\",color = \"green\")\n",
    "plt.show()"
   ]
  },
  {
   "cell_type": "code",
   "execution_count": 16,
   "metadata": {},
   "outputs": [
    {
     "data": {
      "text/plain": [
       "report_month                         object\n",
       "churn                               float64\n",
       "gain                                float64\n",
       "total                               float64\n",
       "registrations                         int64\n",
       "user_count                            int64\n",
       "churn_rate_per_subscriber           float64\n",
       "churn_rate_per_user                 float64\n",
       "conv_rate_per_subscriber            float64\n",
       "conv_rate_per_user                  float64\n",
       "reg_delta                           float64\n",
       "churn_delta                         float64\n",
       "gain_delta                          float64\n",
       "date                         datetime64[ns]\n",
       "year                                  int32\n",
       "month                                 int32\n",
       "dtype: object"
      ]
     },
     "execution_count": 16,
     "metadata": {},
     "output_type": "execute_result"
    }
   ],
   "source": []
  },
  {
   "cell_type": "code",
   "execution_count": null,
   "metadata": {},
   "outputs": [],
   "source": []
  }
 ],
 "metadata": {
  "kernelspec": {
   "display_name": "Python 3",
   "language": "python",
   "name": "python3"
  },
  "language_info": {
   "codemirror_mode": {
    "name": "ipython",
    "version": 3
   },
   "file_extension": ".py",
   "mimetype": "text/x-python",
   "name": "python",
   "nbconvert_exporter": "python",
   "pygments_lexer": "ipython3",
   "version": "3.11.5"
  },
  "orig_nbformat": 4
 },
 "nbformat": 4,
 "nbformat_minor": 2
}
