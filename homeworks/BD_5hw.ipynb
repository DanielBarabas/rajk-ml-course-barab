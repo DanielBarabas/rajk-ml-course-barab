{
 "cells": [
  {
   "cell_type": "markdown",
   "metadata": {},
   "source": [
    "# Libraries"
   ]
  },
  {
   "cell_type": "code",
   "execution_count": 1,
   "metadata": {},
   "outputs": [],
   "source": [
    "from datetime import datetime, timedelta\n",
    "import os\n",
    "import altair as alt\n",
    "import numpy as np\n",
    "import pandas as pd\n",
    "from sklearn.cluster import DBSCAN\n",
    "import umap"
   ]
  },
  {
   "cell_type": "code",
   "execution_count": null,
   "metadata": {},
   "outputs": [],
   "source": [
    "from senten"
   ]
  },
  {
   "cell_type": "markdown",
   "metadata": {},
   "source": [
    "# Load and prepare data"
   ]
  },
  {
   "cell_type": "code",
   "execution_count": 2,
   "metadata": {},
   "outputs": [],
   "source": [
    "user_df = pd.read_csv(\"https://storage.googleapis.com/superlinked-notebook-user-acquisiton-analytics/user_acquisiton_data.csv\")"
   ]
  },
  {
   "cell_type": "code",
   "execution_count": 4,
   "metadata": {},
   "outputs": [
    {
     "data": {
      "text/html": [
       "<div>\n",
       "<style scoped>\n",
       "    .dataframe tbody tr th:only-of-type {\n",
       "        vertical-align: middle;\n",
       "    }\n",
       "\n",
       "    .dataframe tbody tr th {\n",
       "        vertical-align: top;\n",
       "    }\n",
       "\n",
       "    .dataframe thead th {\n",
       "        text-align: right;\n",
       "    }\n",
       "</style>\n",
       "<table border=\"1\" class=\"dataframe\">\n",
       "  <thead>\n",
       "    <tr style=\"text-align: right;\">\n",
       "      <th></th>\n",
       "      <th>id</th>\n",
       "      <th>signup_date</th>\n",
       "      <th>ad_creative</th>\n",
       "      <th>activity</th>\n",
       "    </tr>\n",
       "  </thead>\n",
       "  <tbody>\n",
       "    <tr>\n",
       "      <th>0</th>\n",
       "      <td>0</td>\n",
       "      <td>1693044869</td>\n",
       "      <td>Join a dynamic gaming universe where every cha...</td>\n",
       "      <td>0.295882</td>\n",
       "    </tr>\n",
       "    <tr>\n",
       "      <th>1</th>\n",
       "      <td>1</td>\n",
       "      <td>1694581577</td>\n",
       "      <td>Join a thriving gaming community and challenge...</td>\n",
       "      <td>1.138306</td>\n",
       "    </tr>\n",
       "    <tr>\n",
       "      <th>2</th>\n",
       "      <td>2</td>\n",
       "      <td>1693557423</td>\n",
       "      <td>Experience the rush of competitive gaming! Joi...</td>\n",
       "      <td>0.005266</td>\n",
       "    </tr>\n",
       "    <tr>\n",
       "      <th>3</th>\n",
       "      <td>3</td>\n",
       "      <td>1693313203</td>\n",
       "      <td>Experience the rush of competitive gaming! Joi...</td>\n",
       "      <td>0.297846</td>\n",
       "    </tr>\n",
       "    <tr>\n",
       "      <th>4</th>\n",
       "      <td>4</td>\n",
       "      <td>1692863645</td>\n",
       "      <td>Join a dynamic gaming universe where every cha...</td>\n",
       "      <td>0.118947</td>\n",
       "    </tr>\n",
       "  </tbody>\n",
       "</table>\n",
       "</div>"
      ],
      "text/plain": [
       "   id  signup_date                                        ad_creative  \\\n",
       "0   0   1693044869  Join a dynamic gaming universe where every cha...   \n",
       "1   1   1694581577  Join a thriving gaming community and challenge...   \n",
       "2   2   1693557423  Experience the rush of competitive gaming! Joi...   \n",
       "3   3   1693313203  Experience the rush of competitive gaming! Joi...   \n",
       "4   4   1692863645  Join a dynamic gaming universe where every cha...   \n",
       "\n",
       "   activity  \n",
       "0  0.295882  \n",
       "1  1.138306  \n",
       "2  0.005266  \n",
       "3  0.297846  \n",
       "4  0.118947  "
      ]
     },
     "execution_count": 4,
     "metadata": {},
     "output_type": "execute_result"
    }
   ],
   "source": [
    "user_df.shape\n",
    "user_df.head()"
   ]
  },
  {
   "cell_type": "markdown",
   "metadata": {},
   "source": [
    "## Vectorize text"
   ]
  },
  {
   "cell_type": "markdown",
   "metadata": {},
   "source": [
    "I haven't done this before, if it is utter bullshit I am deeply sorry. I will use the sbert package with the recommended \"all-mpnet-base-v2\" model. It should be the best for general purposes, however it might be very slow. If it is too slow indeed, will use \"all-MiniLM-L6-v2\" instead.\n",
    "As i see there are 12 versions of ad_creative. The easiest would be to treat this as a simple categorical variable and use some encoding from the previous class. But vectorization sounds more fun."
   ]
  },
  {
   "cell_type": "code",
   "execution_count": 6,
   "metadata": {},
   "outputs": [
    {
     "data": {
      "text/plain": [
       "ad_creative\n",
       "Unleash your gaming potential! Upgrade to premium for 2 months free and dominate the competition with XYZCr$$d!                                                  1785\n",
       "Ready to level up? Join XYZCr$$d now for intense gaming battles and exclusive rewards!                                                                           1312\n",
       "Embark on your gaming journey with XYZCr$$d! Join now and experience the thrill of competing against the finest players worldwide!                                715\n",
       "Join a dynamic gaming universe where every challenge pushes your skills to the limit! Connect with like-minded gamers and conquer the virtual realm together!     671\n",
       "Step into the arena of endless possibilities! Join now to engage in exhilarating gaming competitions and forge friendships with fellow gamers along the way!      541\n",
       "Calling all gamers! Don't miss out on your chance to excel. Join XYZCr$$d today for unparalleled gaming excitement and endless challenges!                        533\n",
       "Join a thriving gaming community and challenge your skills against formidable opponents!                                                                          501\n",
       "Elevate your gaming experience! Upgrade now for 2 months free premium access and immerse yourself in the ultimate gaming community of XYZCr$$d!                   501\n",
       "Seeking thrilling gaming adventures? Join our community of gamers and embark on epic quests against worthy adversaries!                                           452\n",
       "Experience the rush of competitive gaming! Join now to connect with fellow gamers and test your mettle in epic battles!                                           347\n",
       "Enter the realm of gaming excellence! Join our vibrant community and compete against some of the most skilled players worldwide!                                  343\n",
       "Become a gaming legend! Join XYZCr$$d now and test your skills against top-tier players from around the globe. Upgrade to premium for 2 months free!              299\n",
       "Name: count, dtype: int64"
      ]
     },
     "execution_count": 6,
     "metadata": {},
     "output_type": "execute_result"
    }
   ],
   "source": [
    "user_df[\"ad_creative\"].value_counts()"
   ]
  },
  {
   "cell_type": "code",
   "execution_count": null,
   "metadata": {},
   "outputs": [],
   "source": []
  },
  {
   "cell_type": "markdown",
   "metadata": {},
   "source": [
    "# Clustering"
   ]
  },
  {
   "cell_type": "markdown",
   "metadata": {},
   "source": [
    "# Dimension Reduction and ploting"
   ]
  },
  {
   "cell_type": "markdown",
   "metadata": {},
   "source": []
  }
 ],
 "metadata": {
  "kernelspec": {
   "display_name": "Python 3",
   "language": "python",
   "name": "python3"
  },
  "language_info": {
   "codemirror_mode": {
    "name": "ipython",
    "version": 3
   },
   "file_extension": ".py",
   "mimetype": "text/x-python",
   "name": "python",
   "nbconvert_exporter": "python",
   "pygments_lexer": "ipython3",
   "version": "3.11.5"
  }
 },
 "nbformat": 4,
 "nbformat_minor": 2
}
