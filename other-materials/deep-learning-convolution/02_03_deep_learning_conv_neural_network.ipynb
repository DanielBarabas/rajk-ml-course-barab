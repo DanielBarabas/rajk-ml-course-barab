{
 "cells": [
  {
   "cell_type": "markdown",
   "metadata": {},
   "source": [
    "# Your first convolutional neural network"
   ]
  },
  {
   "cell_type": "markdown",
   "metadata": {},
   "source": [
    "# imports"
   ]
  },
  {
   "cell_type": "code",
   "execution_count": 1,
   "metadata": {
    "execution": {
     "iopub.execute_input": "2022-04-05T17:53:49.453647Z",
     "iopub.status.busy": "2022-04-05T17:53:49.453358Z",
     "iopub.status.idle": "2022-04-05T17:53:50.373045Z",
     "shell.execute_reply": "2022-04-05T17:53:50.372547Z",
     "shell.execute_reply.started": "2022-04-05T17:53:49.453601Z"
    }
   },
   "outputs": [
    {
     "name": "stderr",
     "output_type": "stream",
     "text": [
      "Using TensorFlow backend.\n"
     ]
    }
   ],
   "source": [
    "import numpy as np\n",
    "\n",
    "from keras.layers import Input, Flatten, Dense, Conv2D, BatchNormalization, LeakyReLU, Dropout, Activation\n",
    "from keras.models import Model\n",
    "from keras.optimizers import Adam\n",
    "from keras.utils import to_categorical\n",
    "import keras.backend as K \n",
    "\n",
    "from keras.datasets import cifar10"
   ]
  },
  {
   "cell_type": "markdown",
   "metadata": {},
   "source": [
    "# data"
   ]
  },
  {
   "cell_type": "code",
   "execution_count": 2,
   "metadata": {
    "execution": {
     "iopub.execute_input": "2022-04-05T17:53:50.374042Z",
     "iopub.status.busy": "2022-04-05T17:53:50.373905Z",
     "iopub.status.idle": "2022-04-05T17:53:50.376074Z",
     "shell.execute_reply": "2022-04-05T17:53:50.375746Z",
     "shell.execute_reply.started": "2022-04-05T17:53:50.374021Z"
    }
   },
   "outputs": [],
   "source": [
    "NUM_CLASSES = 10"
   ]
  },
  {
   "cell_type": "code",
   "execution_count": 3,
   "metadata": {
    "execution": {
     "iopub.execute_input": "2022-04-05T17:53:50.377015Z",
     "iopub.status.busy": "2022-04-05T17:53:50.376800Z",
     "iopub.status.idle": "2022-04-05T17:53:50.573150Z",
     "shell.execute_reply": "2022-04-05T17:53:50.572609Z",
     "shell.execute_reply.started": "2022-04-05T17:53:50.376995Z"
    }
   },
   "outputs": [],
   "source": [
    "(x_train, y_train), (x_test, y_test) = cifar10.load_data()"
   ]
  },
  {
   "cell_type": "code",
   "execution_count": 4,
   "metadata": {
    "execution": {
     "iopub.execute_input": "2022-04-05T17:53:50.574194Z",
     "iopub.status.busy": "2022-04-05T17:53:50.574010Z",
     "iopub.status.idle": "2022-04-05T17:53:50.828392Z",
     "shell.execute_reply": "2022-04-05T17:53:50.827876Z",
     "shell.execute_reply.started": "2022-04-05T17:53:50.574172Z"
    }
   },
   "outputs": [],
   "source": [
    "x_train = x_train.astype('float32') / 255.0\n",
    "x_test = x_test.astype('float32') / 255.0\n",
    "\n",
    "y_train = to_categorical(y_train, NUM_CLASSES)\n",
    "y_test = to_categorical(y_test, NUM_CLASSES)"
   ]
  },
  {
   "cell_type": "code",
   "execution_count": 5,
   "metadata": {
    "execution": {
     "iopub.execute_input": "2022-04-05T17:53:50.830219Z",
     "iopub.status.busy": "2022-04-05T17:53:50.830078Z",
     "iopub.status.idle": "2022-04-05T17:53:50.836975Z",
     "shell.execute_reply": "2022-04-05T17:53:50.836647Z",
     "shell.execute_reply.started": "2022-04-05T17:53:50.830198Z"
    }
   },
   "outputs": [
    {
     "data": {
      "text/plain": [
       "0.36862746"
      ]
     },
     "execution_count": 5,
     "metadata": {},
     "output_type": "execute_result"
    }
   ],
   "source": [
    "x_train[54, 12, 13, 1] "
   ]
  },
  {
   "cell_type": "markdown",
   "metadata": {},
   "source": [
    "# architecture"
   ]
  },
  {
   "cell_type": "code",
   "execution_count": 6,
   "metadata": {
    "execution": {
     "iopub.execute_input": "2022-04-05T17:53:50.838010Z",
     "iopub.status.busy": "2022-04-05T17:53:50.837885Z",
     "iopub.status.idle": "2022-04-05T17:53:50.881027Z",
     "shell.execute_reply": "2022-04-05T17:53:50.880637Z",
     "shell.execute_reply.started": "2022-04-05T17:53:50.837992Z"
    }
   },
   "outputs": [
    {
     "name": "stderr",
     "output_type": "stream",
     "text": [
      "WARNING: Logging before flag parsing goes to stderr.\n",
      "W0405 17:53:50.839913 140364703463232 deprecation_wrapper.py:119] From /home/mor/.conda/envs/generative_dl/lib/python3.7/site-packages/keras/backend/tensorflow_backend.py:74: The name tf.get_default_graph is deprecated. Please use tf.compat.v1.get_default_graph instead.\n",
      "\n",
      "W0405 17:53:50.848084 140364703463232 deprecation_wrapper.py:119] From /home/mor/.conda/envs/generative_dl/lib/python3.7/site-packages/keras/backend/tensorflow_backend.py:517: The name tf.placeholder is deprecated. Please use tf.compat.v1.placeholder instead.\n",
      "\n",
      "W0405 17:53:50.850259 140364703463232 deprecation_wrapper.py:119] From /home/mor/.conda/envs/generative_dl/lib/python3.7/site-packages/keras/backend/tensorflow_backend.py:4138: The name tf.random_uniform is deprecated. Please use tf.random.uniform instead.\n",
      "\n"
     ]
    }
   ],
   "source": [
    "input_layer = Input(shape=(32,32,3))\n",
    "\n",
    "conv_layer_1 = Conv2D(\n",
    "    filters = 10\n",
    "    , kernel_size = (4,4)\n",
    "    , strides = 2\n",
    "    , padding = 'same'\n",
    "    )(input_layer)\n",
    "\n",
    "conv_layer_2 = Conv2D(\n",
    "    filters = 20\n",
    "    , kernel_size = (3,3)\n",
    "    , strides = 2\n",
    "    , padding = 'same'\n",
    "    )(conv_layer_1)\n",
    "\n",
    "flatten_layer = Flatten()(conv_layer_2)\n",
    "\n",
    "output_layer = Dense(units=10, activation = 'softmax')(flatten_layer)\n",
    "\n",
    "model = Model(input_layer, output_layer)"
   ]
  },
  {
   "cell_type": "code",
   "execution_count": 7,
   "metadata": {
    "execution": {
     "iopub.execute_input": "2022-04-05T17:53:50.881881Z",
     "iopub.status.busy": "2022-04-05T17:53:50.881756Z",
     "iopub.status.idle": "2022-04-05T17:53:50.884698Z",
     "shell.execute_reply": "2022-04-05T17:53:50.884216Z",
     "shell.execute_reply.started": "2022-04-05T17:53:50.881862Z"
    }
   },
   "outputs": [
    {
     "name": "stdout",
     "output_type": "stream",
     "text": [
      "_________________________________________________________________\n",
      "Layer (type)                 Output Shape              Param #   \n",
      "=================================================================\n",
      "input_1 (InputLayer)         (None, 32, 32, 3)         0         \n",
      "_________________________________________________________________\n",
      "conv2d_1 (Conv2D)            (None, 16, 16, 10)        490       \n",
      "_________________________________________________________________\n",
      "conv2d_2 (Conv2D)            (None, 8, 8, 20)          1820      \n",
      "_________________________________________________________________\n",
      "flatten_1 (Flatten)          (None, 1280)              0         \n",
      "_________________________________________________________________\n",
      "dense_1 (Dense)              (None, 10)                12810     \n",
      "=================================================================\n",
      "Total params: 15,120\n",
      "Trainable params: 15,120\n",
      "Non-trainable params: 0\n",
      "_________________________________________________________________\n"
     ]
    }
   ],
   "source": [
    "model.summary()"
   ]
  },
  {
   "cell_type": "code",
   "execution_count": 8,
   "metadata": {
    "execution": {
     "iopub.execute_input": "2022-04-05T17:53:50.885429Z",
     "iopub.status.busy": "2022-04-05T17:53:50.885313Z",
     "iopub.status.idle": "2022-04-05T17:53:51.321722Z",
     "shell.execute_reply": "2022-04-05T17:53:51.321179Z",
     "shell.execute_reply.started": "2022-04-05T17:53:50.885411Z"
    }
   },
   "outputs": [
    {
     "name": "stderr",
     "output_type": "stream",
     "text": [
      "W0405 17:53:50.906231 140364703463232 deprecation_wrapper.py:119] From /home/mor/.conda/envs/generative_dl/lib/python3.7/site-packages/keras/backend/tensorflow_backend.py:174: The name tf.get_default_session is deprecated. Please use tf.compat.v1.get_default_session instead.\n",
      "\n",
      "W0405 17:53:50.906654 140364703463232 deprecation_wrapper.py:119] From /home/mor/.conda/envs/generative_dl/lib/python3.7/site-packages/keras/backend/tensorflow_backend.py:181: The name tf.ConfigProto is deprecated. Please use tf.compat.v1.ConfigProto instead.\n",
      "\n",
      "W0405 17:53:50.968498 140364703463232 deprecation_wrapper.py:119] From /home/mor/.conda/envs/generative_dl/lib/python3.7/site-packages/keras/backend/tensorflow_backend.py:1834: The name tf.nn.fused_batch_norm is deprecated. Please use tf.compat.v1.nn.fused_batch_norm instead.\n",
      "\n",
      "W0405 17:53:51.303492 140364703463232 deprecation.py:506] From /home/mor/.conda/envs/generative_dl/lib/python3.7/site-packages/keras/backend/tensorflow_backend.py:3445: calling dropout (from tensorflow.python.ops.nn_ops) with keep_prob is deprecated and will be removed in a future version.\n",
      "Instructions for updating:\n",
      "Please use `rate` instead of `keep_prob`. Rate should be set to `rate = 1 - keep_prob`.\n"
     ]
    }
   ],
   "source": [
    "input_layer = Input((32,32,3))\n",
    "\n",
    "x = Conv2D(filters = 32, kernel_size = 3, strides = 1, padding = 'same')(input_layer)\n",
    "x = BatchNormalization()(x)\n",
    "x = LeakyReLU()(x)\n",
    "\n",
    "\n",
    "x = Conv2D(filters = 32, kernel_size = 3, strides = 2, padding = 'same')(x)\n",
    "x = BatchNormalization()(x)\n",
    "x = LeakyReLU()(x)\n",
    "\n",
    "\n",
    "x = Conv2D(filters = 64, kernel_size = 3, strides = 1, padding = 'same')(x)\n",
    "x = BatchNormalization()(x)\n",
    "x = LeakyReLU()(x)\n",
    "\n",
    "\n",
    "x = Conv2D(filters = 64, kernel_size = 3, strides = 2, padding = 'same')(x)\n",
    "x = BatchNormalization()(x)\n",
    "x = LeakyReLU()(x)\n",
    "\n",
    "\n",
    "x = Flatten()(x)\n",
    "\n",
    "x = Dense(128)(x)\n",
    "x = BatchNormalization()(x)\n",
    "x = LeakyReLU()(x)\n",
    "x = Dropout(rate = 0.5)(x)\n",
    "\n",
    "x = Dense(NUM_CLASSES)(x)\n",
    "output_layer = Activation('softmax')(x)\n",
    "\n",
    "model = Model(input_layer, output_layer)"
   ]
  },
  {
   "cell_type": "code",
   "execution_count": 17,
   "metadata": {
    "execution": {
     "iopub.execute_input": "2022-04-05T18:11:56.746661Z",
     "iopub.status.busy": "2022-04-05T18:11:56.746460Z",
     "iopub.status.idle": "2022-04-05T18:11:56.749894Z",
     "shell.execute_reply": "2022-04-05T18:11:56.749446Z",
     "shell.execute_reply.started": "2022-04-05T18:11:56.746639Z"
    },
    "tags": []
   },
   "outputs": [
    {
     "data": {
      "text/plain": [
       "896"
      ]
     },
     "execution_count": 17,
     "metadata": {},
     "output_type": "execute_result"
    }
   ],
   "source": [
    "# [kernel width * kernel height * channels in the previous layer + bias(1)] * output_channels\n",
    "(3 * 3 * 3 + 1) * 32"
   ]
  },
  {
   "cell_type": "code",
   "execution_count": 19,
   "metadata": {
    "execution": {
     "iopub.execute_input": "2022-04-05T18:12:34.358680Z",
     "iopub.status.busy": "2022-04-05T18:12:34.358346Z",
     "iopub.status.idle": "2022-04-05T18:12:34.363346Z",
     "shell.execute_reply": "2022-04-05T18:12:34.362464Z",
     "shell.execute_reply.started": "2022-04-05T18:12:34.358635Z"
    },
    "tags": []
   },
   "outputs": [
    {
     "data": {
      "text/plain": [
       "128"
      ]
     },
     "execution_count": 19,
     "metadata": {},
     "output_type": "execute_result"
    }
   ],
   "source": [
    "# BatchNorm: scale, shift, moving averages stored for prediction time\n",
    "32 * 4"
   ]
  },
  {
   "cell_type": "code",
   "execution_count": 20,
   "metadata": {
    "execution": {
     "iopub.execute_input": "2022-04-05T18:17:54.304789Z",
     "iopub.status.busy": "2022-04-05T18:17:54.304407Z",
     "iopub.status.idle": "2022-04-05T18:17:54.309586Z",
     "shell.execute_reply": "2022-04-05T18:17:54.308426Z",
     "shell.execute_reply.started": "2022-04-05T18:17:54.304741Z"
    },
    "tags": []
   },
   "outputs": [
    {
     "data": {
      "text/plain": [
       "9248"
      ]
     },
     "execution_count": 20,
     "metadata": {},
     "output_type": "execute_result"
    }
   ],
   "source": [
    "# conv2d_4 (Conv2D) stride = 2 -> height, width halved\n",
    "(3 * 3 * 32 + 1) * 32"
   ]
  },
  {
   "cell_type": "code",
   "execution_count": 9,
   "metadata": {
    "execution": {
     "iopub.execute_input": "2022-04-05T17:53:51.322558Z",
     "iopub.status.busy": "2022-04-05T17:53:51.322430Z",
     "iopub.status.idle": "2022-04-05T17:53:51.326691Z",
     "shell.execute_reply": "2022-04-05T17:53:51.326186Z",
     "shell.execute_reply.started": "2022-04-05T17:53:51.322539Z"
    }
   },
   "outputs": [
    {
     "name": "stdout",
     "output_type": "stream",
     "text": [
      "_________________________________________________________________\n",
      "Layer (type)                 Output Shape              Param #   \n",
      "=================================================================\n",
      "input_2 (InputLayer)         (None, 32, 32, 3)         0         \n",
      "_________________________________________________________________\n",
      "conv2d_3 (Conv2D)            (None, 32, 32, 32)        896       \n",
      "_________________________________________________________________\n",
      "batch_normalization_1 (Batch (None, 32, 32, 32)        128       \n",
      "_________________________________________________________________\n",
      "leaky_re_lu_1 (LeakyReLU)    (None, 32, 32, 32)        0         \n",
      "_________________________________________________________________\n",
      "conv2d_4 (Conv2D)            (None, 16, 16, 32)        9248      \n",
      "_________________________________________________________________\n",
      "batch_normalization_2 (Batch (None, 16, 16, 32)        128       \n",
      "_________________________________________________________________\n",
      "leaky_re_lu_2 (LeakyReLU)    (None, 16, 16, 32)        0         \n",
      "_________________________________________________________________\n",
      "conv2d_5 (Conv2D)            (None, 16, 16, 64)        18496     \n",
      "_________________________________________________________________\n",
      "batch_normalization_3 (Batch (None, 16, 16, 64)        256       \n",
      "_________________________________________________________________\n",
      "leaky_re_lu_3 (LeakyReLU)    (None, 16, 16, 64)        0         \n",
      "_________________________________________________________________\n",
      "conv2d_6 (Conv2D)            (None, 8, 8, 64)          36928     \n",
      "_________________________________________________________________\n",
      "batch_normalization_4 (Batch (None, 8, 8, 64)          256       \n",
      "_________________________________________________________________\n",
      "leaky_re_lu_4 (LeakyReLU)    (None, 8, 8, 64)          0         \n",
      "_________________________________________________________________\n",
      "flatten_2 (Flatten)          (None, 4096)              0         \n",
      "_________________________________________________________________\n",
      "dense_2 (Dense)              (None, 128)               524416    \n",
      "_________________________________________________________________\n",
      "batch_normalization_5 (Batch (None, 128)               512       \n",
      "_________________________________________________________________\n",
      "leaky_re_lu_5 (LeakyReLU)    (None, 128)               0         \n",
      "_________________________________________________________________\n",
      "dropout_1 (Dropout)          (None, 128)               0         \n",
      "_________________________________________________________________\n",
      "dense_3 (Dense)              (None, 10)                1290      \n",
      "_________________________________________________________________\n",
      "activation_1 (Activation)    (None, 10)                0         \n",
      "=================================================================\n",
      "Total params: 592,554\n",
      "Trainable params: 591,914\n",
      "Non-trainable params: 640\n",
      "_________________________________________________________________\n"
     ]
    }
   ],
   "source": [
    "model.summary()"
   ]
  },
  {
   "cell_type": "markdown",
   "metadata": {},
   "source": [
    "# train"
   ]
  },
  {
   "cell_type": "code",
   "execution_count": 10,
   "metadata": {
    "execution": {
     "iopub.execute_input": "2022-04-05T17:53:51.327472Z",
     "iopub.status.busy": "2022-04-05T17:53:51.327353Z",
     "iopub.status.idle": "2022-04-05T17:53:51.358318Z",
     "shell.execute_reply": "2022-04-05T17:53:51.357970Z",
     "shell.execute_reply.started": "2022-04-05T17:53:51.327454Z"
    }
   },
   "outputs": [
    {
     "name": "stderr",
     "output_type": "stream",
     "text": [
      "W0405 17:53:51.341967 140364703463232 deprecation_wrapper.py:119] From /home/mor/.conda/envs/generative_dl/lib/python3.7/site-packages/keras/optimizers.py:790: The name tf.train.Optimizer is deprecated. Please use tf.compat.v1.train.Optimizer instead.\n",
      "\n"
     ]
    }
   ],
   "source": [
    "opt = Adam(lr=0.0005)\n",
    "model.compile(loss='categorical_crossentropy', optimizer=opt, metrics=['accuracy'])"
   ]
  },
  {
   "cell_type": "code",
   "execution_count": 11,
   "metadata": {
    "execution": {
     "iopub.execute_input": "2022-04-05T17:53:51.359130Z",
     "iopub.status.busy": "2022-04-05T17:53:51.359002Z",
     "iopub.status.idle": "2022-04-05T18:08:06.409663Z",
     "shell.execute_reply": "2022-04-05T18:08:06.409165Z",
     "shell.execute_reply.started": "2022-04-05T17:53:51.359112Z"
    }
   },
   "outputs": [
    {
     "name": "stderr",
     "output_type": "stream",
     "text": [
      "W0405 17:53:51.412840 140364703463232 deprecation.py:323] From /home/mor/.conda/envs/generative_dl/lib/python3.7/site-packages/tensorflow/python/ops/math_grad.py:1250: add_dispatch_support.<locals>.wrapper (from tensorflow.python.ops.array_ops) is deprecated and will be removed in a future version.\n",
      "Instructions for updating:\n",
      "Use tf.where in 2.0, which has the same broadcast rule as np.where\n"
     ]
    },
    {
     "name": "stdout",
     "output_type": "stream",
     "text": [
      "Train on 50000 samples, validate on 10000 samples\n",
      "Epoch 1/10\n",
      "50000/50000 [==============================] - 83s 2ms/step - loss: 1.5566 - acc: 0.4568 - val_loss: 1.2102 - val_acc: 0.5646\n",
      "Epoch 2/10\n",
      "50000/50000 [==============================] - 85s 2ms/step - loss: 1.1492 - acc: 0.5961 - val_loss: 1.0397 - val_acc: 0.6298\n",
      "Epoch 3/10\n",
      "50000/50000 [==============================] - 86s 2ms/step - loss: 1.0011 - acc: 0.6519 - val_loss: 0.9674 - val_acc: 0.6604\n",
      "Epoch 4/10\n",
      "50000/50000 [==============================] - 82s 2ms/step - loss: 0.9145 - acc: 0.6808 - val_loss: 0.9105 - val_acc: 0.6819\n",
      "Epoch 5/10\n",
      "50000/50000 [==============================] - 88s 2ms/step - loss: 0.8569 - acc: 0.7023 - val_loss: 0.9434 - val_acc: 0.6632\n",
      "Epoch 6/10\n",
      "50000/50000 [==============================] - 88s 2ms/step - loss: 0.8112 - acc: 0.7160 - val_loss: 1.0021 - val_acc: 0.6493\n",
      "Epoch 7/10\n",
      "50000/50000 [==============================] - 90s 2ms/step - loss: 0.7602 - acc: 0.7355 - val_loss: 1.1429 - val_acc: 0.6382\n",
      "Epoch 8/10\n",
      "50000/50000 [==============================] - 83s 2ms/step - loss: 0.7228 - acc: 0.7478 - val_loss: 0.8163 - val_acc: 0.7171\n",
      "Epoch 9/10\n",
      "50000/50000 [==============================] - 85s 2ms/step - loss: 0.6824 - acc: 0.7619 - val_loss: 0.8088 - val_acc: 0.7241\n",
      "Epoch 10/10\n",
      "50000/50000 [==============================] - 86s 2ms/step - loss: 0.6529 - acc: 0.7719 - val_loss: 0.9864 - val_acc: 0.6708\n"
     ]
    },
    {
     "data": {
      "text/plain": [
       "<keras.callbacks.History at 0x7fa81c647550>"
      ]
     },
     "execution_count": 11,
     "metadata": {},
     "output_type": "execute_result"
    }
   ],
   "source": [
    "model.fit(x_train\n",
    "          , y_train\n",
    "          , batch_size=32\n",
    "          , epochs=10\n",
    "          , shuffle=True\n",
    "          , validation_data = (x_test, y_test))"
   ]
  },
  {
   "cell_type": "code",
   "execution_count": 12,
   "metadata": {
    "execution": {
     "iopub.execute_input": "2022-04-05T18:08:06.411011Z",
     "iopub.status.busy": "2022-04-05T18:08:06.410861Z",
     "iopub.status.idle": "2022-04-05T18:08:06.414139Z",
     "shell.execute_reply": "2022-04-05T18:08:06.413801Z",
     "shell.execute_reply.started": "2022-04-05T18:08:06.410988Z"
    }
   },
   "outputs": [
    {
     "data": {
      "text/plain": [
       "[]"
      ]
     },
     "execution_count": 12,
     "metadata": {},
     "output_type": "execute_result"
    }
   ],
   "source": [
    "model.layers[6].get_weights()"
   ]
  },
  {
   "cell_type": "markdown",
   "metadata": {},
   "source": [
    "# analysis"
   ]
  },
  {
   "cell_type": "code",
   "execution_count": 13,
   "metadata": {
    "execution": {
     "iopub.execute_input": "2022-04-05T18:08:06.415156Z",
     "iopub.status.busy": "2022-04-05T18:08:06.415019Z",
     "iopub.status.idle": "2022-04-05T18:08:07.690227Z",
     "shell.execute_reply": "2022-04-05T18:08:07.689659Z",
     "shell.execute_reply.started": "2022-04-05T18:08:06.415136Z"
    }
   },
   "outputs": [
    {
     "name": "stdout",
     "output_type": "stream",
     "text": [
      "10000/10000 [==============================] - 1s 127us/step\n"
     ]
    },
    {
     "data": {
      "text/plain": [
       "[0.9864260792732239, 0.6708000004291534]"
      ]
     },
     "execution_count": 13,
     "metadata": {},
     "output_type": "execute_result"
    }
   ],
   "source": [
    "model.evaluate(x_test, y_test, batch_size=1000)"
   ]
  },
  {
   "cell_type": "code",
   "execution_count": 14,
   "metadata": {
    "execution": {
     "iopub.execute_input": "2022-04-05T18:08:07.691304Z",
     "iopub.status.busy": "2022-04-05T18:08:07.691134Z",
     "iopub.status.idle": "2022-04-05T18:08:09.046887Z",
     "shell.execute_reply": "2022-04-05T18:08:09.046397Z",
     "shell.execute_reply.started": "2022-04-05T18:08:07.691279Z"
    }
   },
   "outputs": [],
   "source": [
    "CLASSES = np.array(['airplane', 'automobile', 'bird', 'cat', 'deer', 'dog', 'frog', 'horse', 'ship', 'truck'])\n",
    "\n",
    "preds = model.predict(x_test)\n",
    "preds_single = CLASSES[np.argmax(preds, axis = -1)]\n",
    "actual_single = CLASSES[np.argmax(y_test, axis = -1)]"
   ]
  },
  {
   "cell_type": "code",
   "execution_count": 15,
   "metadata": {
    "execution": {
     "iopub.execute_input": "2022-04-05T18:08:09.048050Z",
     "iopub.status.busy": "2022-04-05T18:08:09.047720Z",
     "iopub.status.idle": "2022-04-05T18:08:09.458661Z",
     "shell.execute_reply": "2022-04-05T18:08:09.458200Z",
     "shell.execute_reply.started": "2022-04-05T18:08:09.048029Z"
    }
   },
   "outputs": [
    {
     "data": {
      "image/png": "[encoded data removed]",
      "text/plain": [
       "<Figure size 1080x216 with 10 Axes>"
      ]
     },
     "metadata": {
      "needs_background": "light"
     },
     "output_type": "display_data"
    }
   ],
   "source": [
    "import matplotlib.pyplot as plt\n",
    "\n",
    "n_to_show = 10\n",
    "indices = np.random.choice(range(len(x_test)), n_to_show)\n",
    "\n",
    "fig = plt.figure(figsize=(15, 3))\n",
    "fig.subplots_adjust(hspace=0.4, wspace=0.4)\n",
    "\n",
    "for i, idx in enumerate(indices):\n",
    "    img = x_test[idx]\n",
    "    ax = fig.add_subplot(1, n_to_show, i+1)\n",
    "    ax.axis('off')\n",
    "    ax.text(0.5, -0.35, 'pred = ' + str(preds_single[idx]), fontsize=10, ha='center', transform=ax.transAxes) \n",
    "    ax.text(0.5, -0.7, 'act = ' + str(actual_single[idx]), fontsize=10, ha='center', transform=ax.transAxes)\n",
    "    ax.imshow(img)\n"
   ]
  },
  {
   "cell_type": "code",
   "execution_count": null,
   "metadata": {},
   "outputs": [],
   "source": []
  },
  {
   "cell_type": "code",
   "execution_count": null,
   "metadata": {},
   "outputs": [],
   "source": []
  },
  {
   "cell_type": "code",
   "execution_count": null,
   "metadata": {},
   "outputs": [],
   "source": []
  }
 ],
 "metadata": {
  "kernelspec": {
   "display_name": "Generative Deep Learning (Python 3.7, TF 1.14)",
   "language": "python",
   "name": "generative"
  },
  "language_info": {
   "codemirror_mode": {
    "name": "ipython",
    "version": 3
   },
   "file_extension": ".py",
   "mimetype": "text/x-python",
   "name": "python",
   "nbconvert_exporter": "python",
   "pygments_lexer": "ipython3",
   "version": "3.7.12"
  },
  "widgets": {
   "application/vnd.jupyter.widget-state+json": {
    "state": {},
    "version_major": 2,
    "version_minor": 0
   }
  }
 },
 "nbformat": 4,
 "nbformat_minor": 4
}
