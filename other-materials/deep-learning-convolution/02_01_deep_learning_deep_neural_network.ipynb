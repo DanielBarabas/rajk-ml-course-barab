{
 "cells": [
  {
   "cell_type": "markdown",
   "metadata": {},
   "source": [
    "# Your first deep neural network"
   ]
  },
  {
   "cell_type": "markdown",
   "metadata": {},
   "source": [
    "# imports"
   ]
  },
  {
   "cell_type": "code",
   "execution_count": 1,
   "metadata": {
    "execution": {
     "iopub.execute_input": "2022-04-05T17:44:38.639413Z",
     "iopub.status.busy": "2022-04-05T17:44:38.639284Z",
     "iopub.status.idle": "2022-04-05T17:44:42.012795Z",
     "shell.execute_reply": "2022-04-05T17:44:42.011976Z",
     "shell.execute_reply.started": "2022-04-05T17:44:38.639393Z"
    },
    "tags": []
   },
   "outputs": [
    {
     "name": "stderr",
     "output_type": "stream",
     "text": [
      "Using TensorFlow backend.\n"
     ]
    }
   ],
   "source": [
    "import numpy as np\n",
    "import matplotlib.pyplot as plt\n",
    "\n",
    "from keras.layers import Input, Flatten, Dense, Conv2D\n",
    "from keras.models import Model\n",
    "from keras.optimizers import Adam\n",
    "from keras.utils import to_categorical\n",
    "\n",
    "from keras.datasets import cifar10"
   ]
  },
  {
   "cell_type": "markdown",
   "metadata": {},
   "source": [
    "# data"
   ]
  },
  {
   "cell_type": "code",
   "execution_count": 2,
   "metadata": {
    "execution": {
     "iopub.execute_input": "2022-04-05T17:44:42.013929Z",
     "iopub.status.busy": "2022-04-05T17:44:42.013790Z",
     "iopub.status.idle": "2022-04-05T17:44:42.016570Z",
     "shell.execute_reply": "2022-04-05T17:44:42.015931Z",
     "shell.execute_reply.started": "2022-04-05T17:44:42.013909Z"
    }
   },
   "outputs": [],
   "source": [
    "NUM_CLASSES = 10"
   ]
  },
  {
   "cell_type": "code",
   "execution_count": 3,
   "metadata": {
    "execution": {
     "iopub.execute_input": "2022-04-05T17:44:42.017449Z",
     "iopub.status.busy": "2022-04-05T17:44:42.017303Z",
     "iopub.status.idle": "2022-04-05T17:45:09.554012Z",
     "shell.execute_reply": "2022-04-05T17:45:09.553064Z",
     "shell.execute_reply.started": "2022-04-05T17:44:42.017426Z"
    }
   },
   "outputs": [
    {
     "name": "stdout",
     "output_type": "stream",
     "text": [
      "Downloading data from https://www.cs.toronto.edu/~kriz/cifar-10-python.tar.gz\n",
      "170500096/170498071 [==============================] - 25s 0us/step\n"
     ]
    }
   ],
   "source": [
    "(x_train, y_train), (x_test, y_test) = cifar10.load_data()"
   ]
  },
  {
   "cell_type": "code",
   "execution_count": 4,
   "metadata": {
    "execution": {
     "iopub.execute_input": "2022-04-05T17:45:09.555504Z",
     "iopub.status.busy": "2022-04-05T17:45:09.555355Z",
     "iopub.status.idle": "2022-04-05T17:45:09.816438Z",
     "shell.execute_reply": "2022-04-05T17:45:09.815695Z",
     "shell.execute_reply.started": "2022-04-05T17:45:09.555482Z"
    }
   },
   "outputs": [],
   "source": [
    "x_train = x_train.astype('float32') / 255.0\n",
    "x_test = x_test.astype('float32') / 255.0\n",
    "\n",
    "y_train = to_categorical(y_train, NUM_CLASSES)\n",
    "y_test = to_categorical(y_test, NUM_CLASSES)"
   ]
  },
  {
   "cell_type": "code",
   "execution_count": 5,
   "metadata": {
    "execution": {
     "iopub.execute_input": "2022-04-05T17:45:09.819100Z",
     "iopub.status.busy": "2022-04-05T17:45:09.818946Z",
     "iopub.status.idle": "2022-04-05T17:45:09.824467Z",
     "shell.execute_reply": "2022-04-05T17:45:09.823972Z",
     "shell.execute_reply.started": "2022-04-05T17:45:09.819079Z"
    }
   },
   "outputs": [
    {
     "data": {
      "text/plain": [
       "0.36862746"
      ]
     },
     "execution_count": 5,
     "metadata": {},
     "output_type": "execute_result"
    }
   ],
   "source": [
    "x_train[54, 12, 13, 1] "
   ]
  },
  {
   "cell_type": "markdown",
   "metadata": {},
   "source": [
    "# architecture"
   ]
  },
  {
   "cell_type": "code",
   "execution_count": 6,
   "metadata": {
    "execution": {
     "iopub.execute_input": "2022-04-05T17:45:09.828401Z",
     "iopub.status.busy": "2022-04-05T17:45:09.828281Z",
     "iopub.status.idle": "2022-04-05T17:45:09.876195Z",
     "shell.execute_reply": "2022-04-05T17:45:09.875566Z",
     "shell.execute_reply.started": "2022-04-05T17:45:09.828383Z"
    }
   },
   "outputs": [
    {
     "name": "stderr",
     "output_type": "stream",
     "text": [
      "WARNING: Logging before flag parsing goes to stderr.\n",
      "W0405 17:45:09.829958 140194801669952 deprecation_wrapper.py:119] From /home/mor/.conda/envs/generative_dl/lib/python3.7/site-packages/keras/backend/tensorflow_backend.py:74: The name tf.get_default_graph is deprecated. Please use tf.compat.v1.get_default_graph instead.\n",
      "\n",
      "W0405 17:45:09.839971 140194801669952 deprecation_wrapper.py:119] From /home/mor/.conda/envs/generative_dl/lib/python3.7/site-packages/keras/backend/tensorflow_backend.py:517: The name tf.placeholder is deprecated. Please use tf.compat.v1.placeholder instead.\n",
      "\n",
      "W0405 17:45:09.848747 140194801669952 deprecation_wrapper.py:119] From /home/mor/.conda/envs/generative_dl/lib/python3.7/site-packages/keras/backend/tensorflow_backend.py:4138: The name tf.random_uniform is deprecated. Please use tf.random.uniform instead.\n",
      "\n"
     ]
    }
   ],
   "source": [
    "input_layer = Input((32,32,3))\n",
    "\n",
    "x = Flatten()(input_layer)\n",
    "\n",
    "x = Dense(200, activation = 'relu')(x)\n",
    "x = Dense(150, activation = 'relu')(x)\n",
    "\n",
    "output_layer = Dense(NUM_CLASSES, activation = 'softmax')(x)\n",
    "\n",
    "model = Model(input_layer, output_layer)"
   ]
  },
  {
   "cell_type": "code",
   "execution_count": 7,
   "metadata": {
    "execution": {
     "iopub.execute_input": "2022-04-05T17:45:09.877221Z",
     "iopub.status.busy": "2022-04-05T17:45:09.877096Z",
     "iopub.status.idle": "2022-04-05T17:45:09.880935Z",
     "shell.execute_reply": "2022-04-05T17:45:09.880445Z",
     "shell.execute_reply.started": "2022-04-05T17:45:09.877202Z"
    }
   },
   "outputs": [
    {
     "name": "stdout",
     "output_type": "stream",
     "text": [
      "_________________________________________________________________\n",
      "Layer (type)                 Output Shape              Param #   \n",
      "=================================================================\n",
      "input_1 (InputLayer)         (None, 32, 32, 3)         0         \n",
      "_________________________________________________________________\n",
      "flatten_1 (Flatten)          (None, 3072)              0         \n",
      "_________________________________________________________________\n",
      "dense_1 (Dense)              (None, 200)               614600    \n",
      "_________________________________________________________________\n",
      "dense_2 (Dense)              (None, 150)               30150     \n",
      "_________________________________________________________________\n",
      "dense_3 (Dense)              (None, 10)                1510      \n",
      "=================================================================\n",
      "Total params: 646,260\n",
      "Trainable params: 646,260\n",
      "Non-trainable params: 0\n",
      "_________________________________________________________________\n"
     ]
    }
   ],
   "source": [
    "model.summary()"
   ]
  },
  {
   "cell_type": "code",
   "execution_count": 14,
   "metadata": {
    "execution": {
     "iopub.execute_input": "2022-04-05T17:47:22.283581Z",
     "iopub.status.busy": "2022-04-05T17:47:22.283184Z",
     "iopub.status.idle": "2022-04-05T17:47:22.286216Z",
     "shell.execute_reply": "2022-04-05T17:47:22.285812Z",
     "shell.execute_reply.started": "2022-04-05T17:47:22.283526Z"
    },
    "tags": []
   },
   "outputs": [
    {
     "data": {
      "text/plain": [
       "614600"
      ]
     },
     "execution_count": 14,
     "metadata": {},
     "output_type": "execute_result"
    }
   ],
   "source": [
    "3072 * 200 + 200"
   ]
  },
  {
   "cell_type": "code",
   "execution_count": 15,
   "metadata": {
    "execution": {
     "iopub.execute_input": "2022-04-05T17:48:35.855234Z",
     "iopub.status.busy": "2022-04-05T17:48:35.854816Z",
     "iopub.status.idle": "2022-04-05T17:48:35.859536Z",
     "shell.execute_reply": "2022-04-05T17:48:35.859081Z",
     "shell.execute_reply.started": "2022-04-05T17:48:35.855186Z"
    },
    "tags": []
   },
   "outputs": [
    {
     "data": {
      "text/plain": [
       "30150"
      ]
     },
     "execution_count": 15,
     "metadata": {},
     "output_type": "execute_result"
    }
   ],
   "source": [
    "200 * 150 + 150"
   ]
  },
  {
   "cell_type": "code",
   "execution_count": 16,
   "metadata": {
    "execution": {
     "iopub.execute_input": "2022-04-05T17:48:45.514380Z",
     "iopub.status.busy": "2022-04-05T17:48:45.513999Z",
     "iopub.status.idle": "2022-04-05T17:48:45.519267Z",
     "shell.execute_reply": "2022-04-05T17:48:45.518891Z",
     "shell.execute_reply.started": "2022-04-05T17:48:45.514326Z"
    },
    "tags": []
   },
   "outputs": [
    {
     "data": {
      "text/plain": [
       "1510"
      ]
     },
     "execution_count": 16,
     "metadata": {},
     "output_type": "execute_result"
    }
   ],
   "source": [
    "10 * 150 + 10"
   ]
  },
  {
   "cell_type": "markdown",
   "metadata": {},
   "source": [
    "# train"
   ]
  },
  {
   "cell_type": "code",
   "execution_count": 8,
   "metadata": {
    "execution": {
     "iopub.execute_input": "2022-04-05T17:45:09.881683Z",
     "iopub.status.busy": "2022-04-05T17:45:09.881564Z",
     "iopub.status.idle": "2022-04-05T17:45:09.914398Z",
     "shell.execute_reply": "2022-04-05T17:45:09.913884Z",
     "shell.execute_reply.started": "2022-04-05T17:45:09.881665Z"
    }
   },
   "outputs": [
    {
     "name": "stderr",
     "output_type": "stream",
     "text": [
      "W0405 17:45:09.895508 140194801669952 deprecation_wrapper.py:119] From /home/mor/.conda/envs/generative_dl/lib/python3.7/site-packages/keras/optimizers.py:790: The name tf.train.Optimizer is deprecated. Please use tf.compat.v1.train.Optimizer instead.\n",
      "\n",
      "W0405 17:45:09.900889 140194801669952 deprecation_wrapper.py:119] From /home/mor/.conda/envs/generative_dl/lib/python3.7/site-packages/keras/backend/tensorflow_backend.py:3295: The name tf.log is deprecated. Please use tf.math.log instead.\n",
      "\n"
     ]
    }
   ],
   "source": [
    "opt = Adam(lr=0.0005)\n",
    "model.compile(loss='categorical_crossentropy', optimizer=opt, metrics=['accuracy'])"
   ]
  },
  {
   "cell_type": "code",
   "execution_count": 9,
   "metadata": {
    "execution": {
     "iopub.execute_input": "2022-04-05T17:45:09.915206Z",
     "iopub.status.busy": "2022-04-05T17:45:09.915083Z",
     "iopub.status.idle": "2022-04-05T17:47:06.378645Z",
     "shell.execute_reply": "2022-04-05T17:47:06.377605Z",
     "shell.execute_reply.started": "2022-04-05T17:45:09.915188Z"
    }
   },
   "outputs": [
    {
     "name": "stderr",
     "output_type": "stream",
     "text": [
      "W0405 17:45:09.967915 140194801669952 deprecation.py:323] From /home/mor/.conda/envs/generative_dl/lib/python3.7/site-packages/tensorflow/python/ops/math_grad.py:1250: add_dispatch_support.<locals>.wrapper (from tensorflow.python.ops.array_ops) is deprecated and will be removed in a future version.\n",
      "Instructions for updating:\n",
      "Use tf.where in 2.0, which has the same broadcast rule as np.where\n",
      "W0405 17:45:10.003067 140194801669952 deprecation_wrapper.py:119] From /home/mor/.conda/envs/generative_dl/lib/python3.7/site-packages/keras/backend/tensorflow_backend.py:986: The name tf.assign_add is deprecated. Please use tf.compat.v1.assign_add instead.\n",
      "\n"
     ]
    },
    {
     "name": "stdout",
     "output_type": "stream",
     "text": [
      "Epoch 1/10\n",
      "50000/50000 [==============================] - 13s 251us/step - loss: 1.8445 - acc: 0.3366\n",
      "Epoch 2/10\n",
      "50000/50000 [==============================] - 12s 238us/step - loss: 1.6581 - acc: 0.4075\n",
      "Epoch 3/10\n",
      "50000/50000 [==============================] - 12s 237us/step - loss: 1.5852 - acc: 0.4357\n",
      "Epoch 4/10\n",
      "50000/50000 [==============================] - 11s 229us/step - loss: 1.5327 - acc: 0.4553\n",
      "Epoch 5/10\n",
      "50000/50000 [==============================] - 11s 226us/step - loss: 1.4955 - acc: 0.4681\n",
      "Epoch 6/10\n",
      "50000/50000 [==============================] - 12s 240us/step - loss: 1.4670 - acc: 0.4770\n",
      "Epoch 7/10\n",
      "50000/50000 [==============================] - 11s 219us/step - loss: 1.4373 - acc: 0.4899\n",
      "Epoch 8/10\n",
      "50000/50000 [==============================] - 11s 229us/step - loss: 1.4140 - acc: 0.4978\n",
      "Epoch 9/10\n",
      "50000/50000 [==============================] - 11s 229us/step - loss: 1.3908 - acc: 0.5066\n",
      "Epoch 10/10\n",
      "50000/50000 [==============================] - 11s 227us/step - loss: 1.3733 - acc: 0.5131\n"
     ]
    },
    {
     "data": {
      "text/plain": [
       "<keras.callbacks.History at 0x7f8113496490>"
      ]
     },
     "execution_count": 9,
     "metadata": {},
     "output_type": "execute_result"
    }
   ],
   "source": [
    "model.fit(x_train\n",
    "          , y_train\n",
    "          , batch_size=32\n",
    "          , epochs=10\n",
    "          , shuffle=True)"
   ]
  },
  {
   "cell_type": "markdown",
   "metadata": {},
   "source": [
    "# analysis"
   ]
  },
  {
   "cell_type": "code",
   "execution_count": 10,
   "metadata": {
    "execution": {
     "iopub.execute_input": "2022-04-05T17:47:06.381286Z",
     "iopub.status.busy": "2022-04-05T17:47:06.380953Z",
     "iopub.status.idle": "2022-04-05T17:47:07.047411Z",
     "shell.execute_reply": "2022-04-05T17:47:07.046693Z",
     "shell.execute_reply.started": "2022-04-05T17:47:06.381236Z"
    }
   },
   "outputs": [
    {
     "name": "stdout",
     "output_type": "stream",
     "text": [
      "10000/10000 [==============================] - 1s 66us/step\n"
     ]
    },
    {
     "data": {
      "text/plain": [
       "[1.4663965692520142, 0.4827]"
      ]
     },
     "execution_count": 10,
     "metadata": {},
     "output_type": "execute_result"
    }
   ],
   "source": [
    "model.evaluate(x_test, y_test)"
   ]
  },
  {
   "cell_type": "code",
   "execution_count": 11,
   "metadata": {
    "execution": {
     "iopub.execute_input": "2022-04-05T17:47:07.049312Z",
     "iopub.status.busy": "2022-04-05T17:47:07.048992Z",
     "iopub.status.idle": "2022-04-05T17:47:07.459293Z",
     "shell.execute_reply": "2022-04-05T17:47:07.458890Z",
     "shell.execute_reply.started": "2022-04-05T17:47:07.049275Z"
    }
   },
   "outputs": [],
   "source": [
    "CLASSES = np.array(['airplane', 'automobile', 'bird', 'cat', 'deer', 'dog', 'frog', 'horse', 'ship', 'truck'])\n",
    "\n",
    "preds = model.predict(x_test)\n",
    "preds_single = CLASSES[np.argmax(preds, axis = -1)]\n",
    "actual_single = CLASSES[np.argmax(y_test, axis = -1)]"
   ]
  },
  {
   "cell_type": "code",
   "execution_count": 12,
   "metadata": {
    "execution": {
     "iopub.execute_input": "2022-04-05T17:47:07.460156Z",
     "iopub.status.busy": "2022-04-05T17:47:07.460028Z",
     "iopub.status.idle": "2022-04-05T17:47:07.871004Z",
     "shell.execute_reply": "2022-04-05T17:47:07.870581Z",
     "shell.execute_reply.started": "2022-04-05T17:47:07.460137Z"
    }
   },
   "outputs": [
    {
     "data": {
      "image/png": "[encoded data removed]",
      "text/plain": [
       "<Figure size 1080x216 with 10 Axes>"
      ]
     },
     "metadata": {
      "needs_background": "light"
     },
     "output_type": "display_data"
    }
   ],
   "source": [
    "n_to_show = 10\n",
    "indices = np.random.choice(range(len(x_test)), n_to_show)\n",
    "\n",
    "fig = plt.figure(figsize=(15, 3))\n",
    "fig.subplots_adjust(hspace=0.4, wspace=0.4)\n",
    "\n",
    "for i, idx in enumerate(indices):\n",
    "    img = x_test[idx]\n",
    "    ax = fig.add_subplot(1, n_to_show, i+1)\n",
    "    ax.axis('off')\n",
    "    ax.text(0.5, -0.35, 'pred = ' + str(preds_single[idx]), fontsize=10, ha='center', transform=ax.transAxes) \n",
    "    ax.text(0.5, -0.7, 'act = ' + str(actual_single[idx]), fontsize=10, ha='center', transform=ax.transAxes)\n",
    "    ax.imshow(img)\n"
   ]
  },
  {
   "cell_type": "code",
   "execution_count": null,
   "metadata": {},
   "outputs": [],
   "source": []
  }
 ],
 "metadata": {
  "kernelspec": {
   "display_name": "Generative Deep Learning (Python 3.7, TF 1.14)",
   "language": "python",
   "name": "generative"
  },
  "language_info": {
   "codemirror_mode": {
    "name": "ipython",
    "version": 3
   },
   "file_extension": ".py",
   "mimetype": "text/x-python",
   "name": "python",
   "nbconvert_exporter": "python",
   "pygments_lexer": "ipython3",
   "version": "3.7.12"
  },
  "widgets": {
   "application/vnd.jupyter.widget-state+json": {
    "state": {},
    "version_major": 2,
    "version_minor": 0
   }
  }
 },
 "nbformat": 4,
 "nbformat_minor": 4
}
